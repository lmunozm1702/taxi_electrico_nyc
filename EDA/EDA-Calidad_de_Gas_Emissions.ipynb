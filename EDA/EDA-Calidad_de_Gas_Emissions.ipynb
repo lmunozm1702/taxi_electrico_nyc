{
 "cells": [
  {
   "cell_type": "markdown",
   "metadata": {},
   "source": [
    "# EDA-Calidad del dataset Gas_Emissions"
   ]
  },
  {
   "cell_type": "markdown",
   "metadata": {},
   "source": [
    "## Librerías"
   ]
  },
  {
   "cell_type": "code",
   "execution_count": 1,
   "metadata": {},
   "outputs": [],
   "source": [
    "import os\n",
    "import warnings"
   ]
  },
  {
   "cell_type": "code",
   "execution_count": 2,
   "metadata": {},
   "outputs": [],
   "source": [
    "import pandas as pd\n",
    "import matplotlib.pyplot as plt\n",
    "import seaborn as sns"
   ]
  },
  {
   "cell_type": "markdown",
   "metadata": {},
   "source": [
    "## Ajustes"
   ]
  },
  {
   "cell_type": "markdown",
   "metadata": {},
   "source": [
    "Se ignoran los warnings."
   ]
  },
  {
   "cell_type": "code",
   "execution_count": 3,
   "metadata": {},
   "outputs": [],
   "source": [
    "warnings.filterwarnings(\"ignore\")"
   ]
  },
  {
   "cell_type": "markdown",
   "metadata": {},
   "source": [
    "Se modifica la configuración para que las tablas salgan completas en las salidas."
   ]
  },
  {
   "cell_type": "code",
   "execution_count": 4,
   "metadata": {},
   "outputs": [],
   "source": [
    "pd.set_option('display.max_colwidth', None)\n",
    "pd.set_option('display.max_columns', None)\n",
    "pd.set_option('display.width', None)\n",
    "pd.set_option('display.max_rows', None)"
   ]
  },
  {
   "cell_type": "markdown",
   "metadata": {},
   "source": [
    "## Importacion del dataset"
   ]
  },
  {
   "cell_type": "markdown",
   "metadata": {},
   "source": [
    "Ruta actual."
   ]
  },
  {
   "cell_type": "code",
   "execution_count": 5,
   "metadata": {},
   "outputs": [
    {
     "data": {
      "text/plain": [
       "'c:\\\\Users\\\\franc\\\\Desktop\\\\taxi_electrico_nyc\\\\EDA'"
      ]
     },
     "execution_count": 5,
     "metadata": {},
     "output_type": "execute_result"
    }
   ],
   "source": [
    "ruta_actual = os.getcwd()\n",
    "\n",
    "ruta_actual"
   ]
  },
  {
   "cell_type": "markdown",
   "metadata": {},
   "source": [
    "Ruta raíz del proyecto."
   ]
  },
  {
   "cell_type": "code",
   "execution_count": 6,
   "metadata": {},
   "outputs": [
    {
     "data": {
      "text/plain": [
       "'c:\\\\Users\\\\franc\\\\Desktop\\\\taxi_electrico_nyc'"
      ]
     },
     "execution_count": 6,
     "metadata": {},
     "output_type": "execute_result"
    }
   ],
   "source": [
    "ruta_del_proyecto = os.path.dirname(\n",
    "    ruta_actual\n",
    "    )\n",
    "\n",
    "ruta_del_proyecto"
   ]
  },
  {
   "cell_type": "markdown",
   "metadata": {},
   "source": [
    "Ruta del dataset."
   ]
  },
  {
   "cell_type": "code",
   "execution_count": 7,
   "metadata": {},
   "outputs": [
    {
     "data": {
      "text/plain": [
       "'c:\\\\Users\\\\franc\\\\Desktop\\\\taxi_electrico_nyc\\\\assets\\\\NYC_Greenhouse_Gas_Emissions_Inventory_20241206.csv'"
      ]
     },
     "execution_count": 7,
     "metadata": {},
     "output_type": "execute_result"
    }
   ],
   "source": [
    "ruta_del_dataset = os.path.join(\n",
    "    ruta_del_proyecto, \n",
    "    'assets', \n",
    "    'NYC_Greenhouse_Gas_Emissions_Inventory_20241206.csv'\n",
    "    )\n",
    "\n",
    "ruta_del_dataset"
   ]
  },
  {
   "cell_type": "markdown",
   "metadata": {},
   "source": [
    "Se importa el dataset."
   ]
  },
  {
   "cell_type": "code",
   "execution_count": 8,
   "metadata": {},
   "outputs": [],
   "source": [
    "gas_emissions = pd.read_csv(\n",
    "    ruta_del_dataset\n",
    "    )"
   ]
  },
  {
   "cell_type": "markdown",
   "metadata": {},
   "source": [
    "## Exploración General"
   ]
  },
  {
   "cell_type": "markdown",
   "metadata": {},
   "source": [
    "Primera fila."
   ]
  },
  {
   "cell_type": "code",
   "execution_count": 12,
   "metadata": {},
   "outputs": [
    {
     "data": {
      "text/html": [
       "<div>\n",
       "<style scoped>\n",
       "    .dataframe tbody tr th:only-of-type {\n",
       "        vertical-align: middle;\n",
       "    }\n",
       "\n",
       "    .dataframe tbody tr th {\n",
       "        vertical-align: top;\n",
       "    }\n",
       "\n",
       "    .dataframe thead th {\n",
       "        text-align: right;\n",
       "    }\n",
       "</style>\n",
       "<table border=\"1\" class=\"dataframe\">\n",
       "  <thead>\n",
       "    <tr style=\"text-align: right;\">\n",
       "      <th></th>\n",
       "      <th>Inventory Type</th>\n",
       "      <th>Sectors Sector</th>\n",
       "      <th>Category Full</th>\n",
       "      <th>Category Label</th>\n",
       "      <th>Source Full</th>\n",
       "      <th>Source Label</th>\n",
       "      <th>Source Units</th>\n",
       "      <th>CY 2005 Consumed</th>\n",
       "      <th>CY 2005 tCO2e (100 yr GWP)</th>\n",
       "      <th>CY 2005 Source MMBtu</th>\n",
       "      <th>CY 2005 tCO2e (20 yr GWP)</th>\n",
       "      <th>CY 2006 Consumed</th>\n",
       "      <th>CY 2006 tCO2e (100 yr GWP)</th>\n",
       "      <th>CY 2006 Source MMBtu</th>\n",
       "      <th>CY 2006 tCO2e (20 yr GWP)</th>\n",
       "      <th>CY 2007 Consumed</th>\n",
       "      <th>CY 2007 tCO2e (100 yr GWP)</th>\n",
       "      <th>CY 2007 Source MMBtu</th>\n",
       "      <th>CY 2007 tCO2e (20 yr GWP)</th>\n",
       "      <th>CY 2008 Consumed</th>\n",
       "      <th>CY 2008 tCO2e (100 yr GWP)</th>\n",
       "      <th>CY 2008 Source MMBtu</th>\n",
       "      <th>CY 2008 tCO2e (20 yr GWP)</th>\n",
       "      <th>CY 2009 Consumed</th>\n",
       "      <th>CY 2009 tCO2e (100 yr GWP)</th>\n",
       "      <th>CY 2009 Source MMBtu</th>\n",
       "      <th>CY 2009 tCO2e (20 yr GWP)</th>\n",
       "      <th>CY 2010 Consumed</th>\n",
       "      <th>CY 2010 tCO2e (100 yr GWP)</th>\n",
       "      <th>CY 2010 Source MMBtu</th>\n",
       "      <th>CY 2010 tCO2e (20 yr GWP)</th>\n",
       "      <th>CY 2011 Consumed</th>\n",
       "      <th>CY 2011 tCO2e (100 yr GWP)</th>\n",
       "      <th>CY 2011 Source MMBtu</th>\n",
       "      <th>CY 2011 tCO2e (20 yr GWP)</th>\n",
       "      <th>CY 2012 Consumed</th>\n",
       "      <th>CY 2012 tCO2e (100 yr GWP)</th>\n",
       "      <th>CY 2012 Source MMBtu</th>\n",
       "      <th>CY 2012 tCO2e (20 yr GWP)</th>\n",
       "      <th>CY 2013 Consumed</th>\n",
       "      <th>CY 2013 tCO2e (100 yr GWP)</th>\n",
       "      <th>CY 2013 Source MMBtu</th>\n",
       "      <th>CY 2013 tCO2e (20 yr GWP)</th>\n",
       "      <th>CY 2014 Consumed</th>\n",
       "      <th>CY 2014 tCO2e (100 yr GWP)</th>\n",
       "      <th>CY 2014 Source MMBtu</th>\n",
       "      <th>CY 2014 tCO2e (20 yr GWP)</th>\n",
       "      <th>CY 2015 Consumed</th>\n",
       "      <th>CY 2015 tCO2e (100 yr GWP)</th>\n",
       "      <th>CY 2015 Source MMBtu</th>\n",
       "      <th>CY 2015 tCO2e (20 yr GWP)</th>\n",
       "      <th>CY 2016 Consumed</th>\n",
       "      <th>CY 2016 tCO2e (100 yr GWP)</th>\n",
       "      <th>CY 2016 Source MMBtu</th>\n",
       "      <th>CY 2016 tCO2e (20 yr GWP)</th>\n",
       "      <th>CY 2017 Consumed</th>\n",
       "      <th>CY 2017 tCO2e (100 yr GWP)</th>\n",
       "      <th>CY 2017 Source MMBtu</th>\n",
       "      <th>CY 2017 tCO2e (20 yr GWP)</th>\n",
       "      <th>CY 2018 Consumed</th>\n",
       "      <th>CY 2018 tCO2e (100 yr GWP)</th>\n",
       "      <th>CY 2018 Source MMBtu</th>\n",
       "      <th>CY 2018 tCO2e (20 yr GWP)</th>\n",
       "      <th>CY 2019 Consumed</th>\n",
       "      <th>CY 2019 tCO2e (100 yr GWP)</th>\n",
       "      <th>CY 2019 Source MMBtu</th>\n",
       "      <th>CY 2019 tCO2e (20 yr GWP)</th>\n",
       "      <th>CY 2020 Consumed</th>\n",
       "      <th>CY 2020 tCO2e (100 yr GWP)</th>\n",
       "      <th>CY 2020 Source MMBtu</th>\n",
       "      <th>CY 2020 tCO2e (20 yr GWP)</th>\n",
       "      <th>CY 2021 Consumed</th>\n",
       "      <th>CY 2021 tCO2e (100 yr GWP)</th>\n",
       "      <th>CY 2021 Source MMBtu</th>\n",
       "      <th>CY 2021 tCO2e (20 yr GWP)</th>\n",
       "      <th>CY 2022 Consumed</th>\n",
       "      <th>CY 2022 tCO2e (100 yr GWP)</th>\n",
       "      <th>CY 2022 Source MMBtu</th>\n",
       "      <th>CY 2022 tCO2e (20 yr GWP)</th>\n",
       "      <th>CY 2023 Consumed</th>\n",
       "      <th>CY 2023 tCO2e (100 yr GWP)</th>\n",
       "      <th>CY 2023 Source MMBtu</th>\n",
       "      <th>CY 2023 tCO2e (20 yr GWP)</th>\n",
       "      <th>2005 - 2022 % change Consumed</th>\n",
       "      <th>2005 - 2022 % change tCO2e</th>\n",
       "      <th>2005 - 2022 % change Source MMBtu</th>\n",
       "      <th>2005 - 2022 % change tCO2e 20 yr GWP</th>\n",
       "    </tr>\n",
       "  </thead>\n",
       "  <tbody>\n",
       "    <tr>\n",
       "      <th>0</th>\n",
       "      <td>GPC</td>\n",
       "      <td>Stationary Energy</td>\n",
       "      <td>Residential (small and large residential)</td>\n",
       "      <td>Residential</td>\n",
       "      <td>#2 fuel oil</td>\n",
       "      <td>#2 fuel oil</td>\n",
       "      <td>gallon</td>\n",
       "      <td>1.466460e+08</td>\n",
       "      <td>1517233.2</td>\n",
       "      <td>20439518.9</td>\n",
       "      <td>1549279.75</td>\n",
       "      <td>1.236520e+08</td>\n",
       "      <td>1279331.85</td>\n",
       "      <td>17234613.31</td>\n",
       "      <td>1306353.52</td>\n",
       "      <td>1.422401e+08</td>\n",
       "      <td>1471649.29</td>\n",
       "      <td>19825431.82</td>\n",
       "      <td>1502733.03</td>\n",
       "      <td>1.311070e+08</td>\n",
       "      <td>1356463.27</td>\n",
       "      <td>18273694.95</td>\n",
       "      <td>1385114.09</td>\n",
       "      <td>146483621.5</td>\n",
       "      <td>1515553.24</td>\n",
       "      <td>20416887.16</td>\n",
       "      <td>1547564.31</td>\n",
       "      <td>1.411770e+08</td>\n",
       "      <td>1460649.45</td>\n",
       "      <td>19677246.7</td>\n",
       "      <td>1491500.85</td>\n",
       "      <td>1.381669e+08</td>\n",
       "      <td>1429506.28</td>\n",
       "      <td>19257699.26</td>\n",
       "      <td>1459699.89</td>\n",
       "      <td>1.252074e+08</td>\n",
       "      <td>1295424.21</td>\n",
       "      <td>17451402.73</td>\n",
       "      <td>1322785.78</td>\n",
       "      <td>1.603248e+08</td>\n",
       "      <td>1658757.6</td>\n",
       "      <td>22346075.33</td>\n",
       "      <td>1693793.39</td>\n",
       "      <td>1.229829e+08</td>\n",
       "      <td>1272409.02</td>\n",
       "      <td>17141351.95</td>\n",
       "      <td>1299284.47</td>\n",
       "      <td>160363033.9</td>\n",
       "      <td>1659152.83</td>\n",
       "      <td>22351399.66</td>\n",
       "      <td>1694196.97</td>\n",
       "      <td>1.225838e+08</td>\n",
       "      <td>1268280.5</td>\n",
       "      <td>17085734.23</td>\n",
       "      <td>1295068.74</td>\n",
       "      <td>1.057673e+08</td>\n",
       "      <td>1094293.32</td>\n",
       "      <td>14741853.15</td>\n",
       "      <td>1117406.66</td>\n",
       "      <td>1.344716e+08</td>\n",
       "      <td>1391274.0</td>\n",
       "      <td>18742650.26</td>\n",
       "      <td>1420660.08</td>\n",
       "      <td>136255620.5</td>\n",
       "      <td>1409731.99</td>\n",
       "      <td>18991308.38</td>\n",
       "      <td>1439507.93</td>\n",
       "      <td>97015873.57</td>\n",
       "      <td>1003748.54</td>\n",
       "      <td>13522072.46</td>\n",
       "      <td>1024949.42</td>\n",
       "      <td>94453737.87</td>\n",
       "      <td>977240.1</td>\n",
       "      <td>13164961.98</td>\n",
       "      <td>997881.07</td>\n",
       "      <td>1.059489e+08</td>\n",
       "      <td>1096171.18</td>\n",
       "      <td>14767150.78</td>\n",
       "      <td>1119324.18</td>\n",
       "      <td>90526881.46</td>\n",
       "      <td>936611.94</td>\n",
       "      <td>12617636.74</td>\n",
       "      <td>956394.78</td>\n",
       "      <td>-38.268426</td>\n",
       "      <td>-38.268426</td>\n",
       "      <td>-38.268426</td>\n",
       "      <td>-38.268426</td>\n",
       "    </tr>\n",
       "  </tbody>\n",
       "</table>\n",
       "</div>"
      ],
      "text/plain": [
       "  Inventory Type     Sectors Sector  \\\n",
       "0            GPC  Stationary Energy   \n",
       "\n",
       "                               Category Full Category Label  Source Full  \\\n",
       "0  Residential (small and large residential)    Residential  #2 fuel oil   \n",
       "\n",
       "  Source Label Source Units  CY 2005 Consumed  CY 2005 tCO2e (100 yr GWP)  \\\n",
       "0  #2 fuel oil       gallon      1.466460e+08                   1517233.2   \n",
       "\n",
       "   CY 2005 Source MMBtu  CY 2005 tCO2e (20 yr GWP)  CY 2006 Consumed  \\\n",
       "0            20439518.9                 1549279.75      1.236520e+08   \n",
       "\n",
       "   CY 2006 tCO2e (100 yr GWP)  CY 2006 Source MMBtu  \\\n",
       "0                  1279331.85           17234613.31   \n",
       "\n",
       "   CY 2006 tCO2e (20 yr GWP)  CY 2007 Consumed  CY 2007 tCO2e (100 yr GWP)  \\\n",
       "0                 1306353.52      1.422401e+08                  1471649.29   \n",
       "\n",
       "   CY 2007 Source MMBtu  CY 2007 tCO2e (20 yr GWP)  CY 2008 Consumed  \\\n",
       "0           19825431.82                 1502733.03      1.311070e+08   \n",
       "\n",
       "   CY 2008 tCO2e (100 yr GWP)  CY 2008 Source MMBtu  \\\n",
       "0                  1356463.27           18273694.95   \n",
       "\n",
       "   CY 2008 tCO2e (20 yr GWP)  CY 2009 Consumed  CY 2009 tCO2e (100 yr GWP)  \\\n",
       "0                 1385114.09       146483621.5                  1515553.24   \n",
       "\n",
       "   CY 2009 Source MMBtu  CY 2009 tCO2e (20 yr GWP)  CY 2010 Consumed  \\\n",
       "0           20416887.16                 1547564.31      1.411770e+08   \n",
       "\n",
       "   CY 2010 tCO2e (100 yr GWP)  CY 2010 Source MMBtu  \\\n",
       "0                  1460649.45            19677246.7   \n",
       "\n",
       "   CY 2010 tCO2e (20 yr GWP)  CY 2011 Consumed  CY 2011 tCO2e (100 yr GWP)  \\\n",
       "0                 1491500.85      1.381669e+08                  1429506.28   \n",
       "\n",
       "   CY 2011 Source MMBtu  CY 2011 tCO2e (20 yr GWP)  CY 2012 Consumed  \\\n",
       "0           19257699.26                 1459699.89      1.252074e+08   \n",
       "\n",
       "   CY 2012 tCO2e (100 yr GWP)  CY 2012 Source MMBtu  \\\n",
       "0                  1295424.21           17451402.73   \n",
       "\n",
       "   CY 2012 tCO2e (20 yr GWP)  CY 2013 Consumed  CY 2013 tCO2e (100 yr GWP)  \\\n",
       "0                 1322785.78      1.603248e+08                   1658757.6   \n",
       "\n",
       "   CY 2013 Source MMBtu  CY 2013 tCO2e (20 yr GWP)  CY 2014 Consumed  \\\n",
       "0           22346075.33                 1693793.39      1.229829e+08   \n",
       "\n",
       "   CY 2014 tCO2e (100 yr GWP)  CY 2014 Source MMBtu  \\\n",
       "0                  1272409.02           17141351.95   \n",
       "\n",
       "   CY 2014 tCO2e (20 yr GWP)  CY 2015 Consumed  CY 2015 tCO2e (100 yr GWP)  \\\n",
       "0                 1299284.47       160363033.9                  1659152.83   \n",
       "\n",
       "   CY 2015 Source MMBtu  CY 2015 tCO2e (20 yr GWP)  CY 2016 Consumed  \\\n",
       "0           22351399.66                 1694196.97      1.225838e+08   \n",
       "\n",
       "   CY 2016 tCO2e (100 yr GWP)  CY 2016 Source MMBtu  \\\n",
       "0                   1268280.5           17085734.23   \n",
       "\n",
       "   CY 2016 tCO2e (20 yr GWP)  CY 2017 Consumed  CY 2017 tCO2e (100 yr GWP)  \\\n",
       "0                 1295068.74      1.057673e+08                  1094293.32   \n",
       "\n",
       "   CY 2017 Source MMBtu  CY 2017 tCO2e (20 yr GWP)  CY 2018 Consumed  \\\n",
       "0           14741853.15                 1117406.66      1.344716e+08   \n",
       "\n",
       "   CY 2018 tCO2e (100 yr GWP)  CY 2018 Source MMBtu  \\\n",
       "0                   1391274.0           18742650.26   \n",
       "\n",
       "   CY 2018 tCO2e (20 yr GWP)  CY 2019 Consumed  CY 2019 tCO2e (100 yr GWP)  \\\n",
       "0                 1420660.08       136255620.5                  1409731.99   \n",
       "\n",
       "   CY 2019 Source MMBtu  CY 2019 tCO2e (20 yr GWP)  CY 2020 Consumed  \\\n",
       "0           18991308.38                 1439507.93       97015873.57   \n",
       "\n",
       "   CY 2020 tCO2e (100 yr GWP)  CY 2020 Source MMBtu  \\\n",
       "0                  1003748.54           13522072.46   \n",
       "\n",
       "   CY 2020 tCO2e (20 yr GWP)  CY 2021 Consumed  CY 2021 tCO2e (100 yr GWP)  \\\n",
       "0                 1024949.42       94453737.87                    977240.1   \n",
       "\n",
       "   CY 2021 Source MMBtu  CY 2021 tCO2e (20 yr GWP)  CY 2022 Consumed  \\\n",
       "0           13164961.98                  997881.07      1.059489e+08   \n",
       "\n",
       "   CY 2022 tCO2e (100 yr GWP)  CY 2022 Source MMBtu  \\\n",
       "0                  1096171.18           14767150.78   \n",
       "\n",
       "   CY 2022 tCO2e (20 yr GWP)  CY 2023 Consumed  CY 2023 tCO2e (100 yr GWP)  \\\n",
       "0                 1119324.18       90526881.46                   936611.94   \n",
       "\n",
       "   CY 2023 Source MMBtu  CY 2023 tCO2e (20 yr GWP)  \\\n",
       "0           12617636.74                  956394.78   \n",
       "\n",
       "   2005 - 2022 % change Consumed  2005 - 2022 % change tCO2e  \\\n",
       "0                     -38.268426                  -38.268426   \n",
       "\n",
       "   2005 - 2022 % change Source MMBtu  2005 - 2022 % change tCO2e 20 yr GWP  \n",
       "0                         -38.268426                            -38.268426  "
      ]
     },
     "execution_count": 12,
     "metadata": {},
     "output_type": "execute_result"
    }
   ],
   "source": [
    "gas_emissions.head(1)"
   ]
  },
  {
   "cell_type": "markdown",
   "metadata": {},
   "source": [
    "Tamaño."
   ]
  },
  {
   "cell_type": "code",
   "execution_count": 15,
   "metadata": {},
   "outputs": [
    {
     "name": "stdout",
     "output_type": "stream",
     "text": [
      "Cantidad de filas: \n",
      "85\n",
      "\n",
      "Cantidad de columnas:\n",
      "87\n"
     ]
    }
   ],
   "source": [
    "print(\"Cantidad de filas: \")\n",
    "print(gas_emissions.shape[0])\n",
    "print()\n",
    "print(\"Cantidad de columnas:\")\n",
    "print(gas_emissions.shape[1])"
   ]
  },
  {
   "cell_type": "markdown",
   "metadata": {},
   "source": [
    "## Tipos de Datos"
   ]
  },
  {
   "cell_type": "markdown",
   "metadata": {},
   "source": [
    "Nombre de cada columna y tipo de dato."
   ]
  },
  {
   "cell_type": "code",
   "execution_count": 16,
   "metadata": {},
   "outputs": [
    {
     "data": {
      "text/plain": [
       "Inventory Type                           object\n",
       "Sectors Sector                           object\n",
       "Category Full                            object\n",
       "Category Label                           object\n",
       "Source Full                              object\n",
       "Source Label                             object\n",
       "Source Units                             object\n",
       "CY 2005 Consumed                        float64\n",
       "CY 2005 tCO2e (100 yr GWP)              float64\n",
       "CY 2005 Source MMBtu                    float64\n",
       "CY 2005 tCO2e (20 yr GWP)               float64\n",
       "CY 2006 Consumed                        float64\n",
       "CY 2006 tCO2e (100 yr GWP)              float64\n",
       "CY 2006 Source MMBtu                    float64\n",
       "CY 2006 tCO2e (20 yr GWP)               float64\n",
       "CY 2007 Consumed                        float64\n",
       "CY 2007 tCO2e (100 yr GWP)              float64\n",
       "CY 2007 Source MMBtu                    float64\n",
       "CY 2007 tCO2e (20 yr GWP)               float64\n",
       "CY 2008 Consumed                        float64\n",
       "CY 2008 tCO2e (100 yr GWP)              float64\n",
       "CY 2008 Source MMBtu                    float64\n",
       "CY 2008 tCO2e (20 yr GWP)               float64\n",
       "CY 2009 Consumed                        float64\n",
       "CY 2009 tCO2e (100 yr GWP)              float64\n",
       "CY 2009 Source MMBtu                    float64\n",
       "CY 2009 tCO2e (20 yr GWP)               float64\n",
       "CY 2010 Consumed                        float64\n",
       "CY 2010 tCO2e (100 yr GWP)              float64\n",
       "CY 2010 Source MMBtu                    float64\n",
       "CY 2010 tCO2e (20 yr GWP)               float64\n",
       "CY 2011 Consumed                        float64\n",
       "CY 2011 tCO2e (100 yr GWP)              float64\n",
       "CY 2011 Source MMBtu                    float64\n",
       "CY 2011 tCO2e (20 yr GWP)               float64\n",
       "CY 2012 Consumed                        float64\n",
       "CY 2012 tCO2e (100 yr GWP)              float64\n",
       "CY 2012 Source MMBtu                    float64\n",
       "CY 2012 tCO2e (20 yr GWP)               float64\n",
       "CY 2013 Consumed                        float64\n",
       "CY 2013 tCO2e (100 yr GWP)              float64\n",
       "CY 2013 Source MMBtu                    float64\n",
       "CY 2013 tCO2e (20 yr GWP)               float64\n",
       "CY 2014 Consumed                        float64\n",
       "CY 2014 tCO2e (100 yr GWP)              float64\n",
       "CY 2014 Source MMBtu                    float64\n",
       "CY 2014 tCO2e (20 yr GWP)               float64\n",
       "CY 2015 Consumed                        float64\n",
       "CY 2015 tCO2e (100 yr GWP)              float64\n",
       "CY 2015 Source MMBtu                    float64\n",
       "CY 2015 tCO2e (20 yr GWP)               float64\n",
       "CY 2016 Consumed                        float64\n",
       "CY 2016 tCO2e (100 yr GWP)              float64\n",
       "CY 2016 Source MMBtu                    float64\n",
       "CY 2016 tCO2e (20 yr GWP)               float64\n",
       "CY 2017 Consumed                        float64\n",
       "CY 2017 tCO2e (100 yr GWP)              float64\n",
       "CY 2017 Source MMBtu                    float64\n",
       "CY 2017 tCO2e (20 yr GWP)               float64\n",
       "CY 2018 Consumed                        float64\n",
       "CY 2018 tCO2e (100 yr GWP)              float64\n",
       "CY 2018 Source MMBtu                    float64\n",
       "CY 2018 tCO2e (20 yr GWP)               float64\n",
       "CY 2019 Consumed                        float64\n",
       "CY 2019 tCO2e (100 yr GWP)              float64\n",
       "CY 2019 Source MMBtu                    float64\n",
       "CY 2019 tCO2e (20 yr GWP)               float64\n",
       "CY 2020 Consumed                        float64\n",
       "CY 2020 tCO2e (100 yr GWP)              float64\n",
       "CY 2020 Source MMBtu                    float64\n",
       "CY 2020 tCO2e (20 yr GWP)               float64\n",
       "CY 2021 Consumed                        float64\n",
       "CY 2021 tCO2e (100 yr GWP)              float64\n",
       "CY 2021 Source MMBtu                    float64\n",
       "CY 2021 tCO2e (20 yr GWP)               float64\n",
       "CY 2022 Consumed                        float64\n",
       "CY 2022 tCO2e (100 yr GWP)              float64\n",
       "CY 2022 Source MMBtu                    float64\n",
       "CY 2022 tCO2e (20 yr GWP)               float64\n",
       "CY 2023 Consumed                        float64\n",
       "CY 2023 tCO2e (100 yr GWP)              float64\n",
       "CY 2023 Source MMBtu                    float64\n",
       "CY 2023 tCO2e (20 yr GWP)               float64\n",
       "2005 - 2022 % change Consumed           float64\n",
       "2005 - 2022 % change tCO2e              float64\n",
       "2005 - 2022 % change Source MMBtu       float64\n",
       "2005 - 2022 % change tCO2e 20 yr GWP    float64\n",
       "dtype: object"
      ]
     },
     "execution_count": 16,
     "metadata": {},
     "output_type": "execute_result"
    }
   ],
   "source": [
    "gas_emissions.dtypes"
   ]
  },
  {
   "cell_type": "markdown",
   "metadata": {},
   "source": [
    "## Valores Faltantes"
   ]
  },
  {
   "cell_type": "markdown",
   "metadata": {},
   "source": [
    "Valores Cadena Vacía en las columnas de tipo object."
   ]
  },
  {
   "cell_type": "code",
   "execution_count": 17,
   "metadata": {},
   "outputs": [
    {
     "data": {
      "text/plain": [
       "Index(['Inventory Type', 'Sectors Sector', 'Category Full', 'Category Label',\n",
       "       'Source Full', 'Source Label', 'Source Units'],\n",
       "      dtype='object')"
      ]
     },
     "execution_count": 17,
     "metadata": {},
     "output_type": "execute_result"
    }
   ],
   "source": [
    "columnas_object = gas_emissions.select_dtypes(include='object').columns\n",
    "\n",
    "columnas_object"
   ]
  },
  {
   "cell_type": "code",
   "execution_count": 19,
   "metadata": {},
   "outputs": [
    {
     "name": "stdout",
     "output_type": "stream",
     "text": [
      "Cantidad de valores faltantes:\n",
      "0\n"
     ]
    }
   ],
   "source": [
    "filas_con_valores_vacios = gas_emissions[\n",
    "    columnas_object].apply(lambda x: x == \"\").any(axis=1)\n",
    "\n",
    "print('Cantidad de valores faltantes:')\n",
    "print(filas_con_valores_vacios.sum())"
   ]
  },
  {
   "cell_type": "markdown",
   "metadata": {},
   "source": [
    "## Valores Nulos"
   ]
  },
  {
   "cell_type": "code",
   "execution_count": 29,
   "metadata": {},
   "outputs": [
    {
     "name": "stdout",
     "output_type": "stream",
     "text": [
      "Cantidad de valores nulos\n",
      "0\n"
     ]
    }
   ],
   "source": [
    "print('Cantidad de valores nulos')\n",
    "\n",
    "print(gas_emissions.isnull().sum().sum())"
   ]
  },
  {
   "cell_type": "markdown",
   "metadata": {},
   "source": [
    "El dataset tiene todos sus valores completos."
   ]
  },
  {
   "cell_type": "markdown",
   "metadata": {},
   "source": [
    "## Valores Duplicados"
   ]
  },
  {
   "cell_type": "code",
   "execution_count": null,
   "metadata": {},
   "outputs": [
    {
     "name": "stdout",
     "output_type": "stream",
     "text": [
      "0\n"
     ]
    }
   ],
   "source": [
    "print(gas_emissions.duplicated().sum())"
   ]
  },
  {
   "cell_type": "markdown",
   "metadata": {},
   "source": [
    "No hay ningun valor duplicado."
   ]
  },
  {
   "cell_type": "markdown",
   "metadata": {},
   "source": [
    "## Diccionario de datos"
   ]
  },
  {
   "cell_type": "code",
   "execution_count": 48,
   "metadata": {},
   "outputs": [
    {
     "data": {
      "text/plain": [
       "'c:\\\\Users\\\\franc\\\\Desktop\\\\taxi_electrico_nyc\\\\assets\\\\Inventory_of_New_York_City_Greenhouse_Gas_Emissions_Data_Dictionary.xlsx'"
      ]
     },
     "execution_count": 48,
     "metadata": {},
     "output_type": "execute_result"
    }
   ],
   "source": [
    "ruta_del_diccionario = os.path.join(\n",
    "    ruta_del_proyecto, \n",
    "    'assets', \n",
    "    'Inventory_of_New_York_City_Greenhouse_Gas_Emissions_Data_Dictionary.xlsx'\n",
    "    )\n",
    "\n",
    "ruta_del_diccionario"
   ]
  },
  {
   "cell_type": "code",
   "execution_count": 49,
   "metadata": {},
   "outputs": [],
   "source": [
    "diccionario = pd.read_excel(\n",
    "    ruta_del_diccionario, \n",
    "    sheet_name='Column Information', \n",
    "    header=1\n",
    "    )"
   ]
  },
  {
   "cell_type": "code",
   "execution_count": 50,
   "metadata": {},
   "outputs": [
    {
     "data": {
      "text/html": [
       "<div>\n",
       "<style scoped>\n",
       "    .dataframe tbody tr th:only-of-type {\n",
       "        vertical-align: middle;\n",
       "    }\n",
       "\n",
       "    .dataframe tbody tr th {\n",
       "        vertical-align: top;\n",
       "    }\n",
       "\n",
       "    .dataframe thead th {\n",
       "        text-align: right;\n",
       "    }\n",
       "</style>\n",
       "<table border=\"1\" class=\"dataframe\">\n",
       "  <thead>\n",
       "    <tr style=\"text-align: right;\">\n",
       "      <th></th>\n",
       "      <th>Column Name</th>\n",
       "      <th>Column Description</th>\n",
       "      <th>Expected/Allowed Values</th>\n",
       "      <th>Field Limitations</th>\n",
       "      <th>Additional Notes</th>\n",
       "    </tr>\n",
       "  </thead>\n",
       "  <tbody>\n",
       "    <tr>\n",
       "      <th>0</th>\n",
       "      <td>Name of the column exactly as it appears in the dataset.</td>\n",
       "      <td>A brief, plain-language explanation of what the data in the column means.</td>\n",
       "      <td>Specifies if there is an expected range and/or format of possible values. For example, if the data type is Date &amp; Time, this field will note whether the timestamp is MM/DD/YYYY or MM/YYYY. If the Column Name is ice cream, this field might note that values can be Chocolate, Vanilla or Strawberry.\\n\\nIf relevant, this field specifies the unit of measurement of the data field, e.g. thousands, millions, $ value, miles, feet, year, etc.</td>\n",
       "      <td>Describes any unique characteristics or potential analytical limitations presented by this field, including: \\n- the reasoning for any null, zero, or empty values in the data\\n- if the data in the column was integrated from another dataset or organization\\n- if the data covered includes a different time period\\n- the source of the column and how the data in the column was generated. \\n\\nFor example, information on how the data in this column was generated can include  whether the data was self-reported directly by a person, system generated by a database or agency system, derived through analytical manipulation of other fields or records; or obtained from a different agency.</td>\n",
       "      <td>Provides any additional relevant information about the data in the column, including: \\n- definitions of acronyms, special term or codes, or jargon that appears in the field values;\\n- the meaning of confusing or non-intuitive values in the data; \\n- how the information in this column relates to information in other columns;\\n- other unique details about this column.</td>\n",
       "    </tr>\n",
       "    <tr>\n",
       "      <th>1</th>\n",
       "      <td>Inventory</td>\n",
       "      <td>Indicator of the inventory associated with that data.</td>\n",
       "      <td>Plain Text</td>\n",
       "      <td>NaN</td>\n",
       "      <td>NaN</td>\n",
       "    </tr>\n",
       "    <tr>\n",
       "      <th>2</th>\n",
       "      <td>Sector</td>\n",
       "      <td>Describes the main sectors of the inventory</td>\n",
       "      <td>Plain Text</td>\n",
       "      <td>NaN</td>\n",
       "      <td>NaN</td>\n",
       "    </tr>\n",
       "    <tr>\n",
       "      <th>3</th>\n",
       "      <td>Category Full</td>\n",
       "      <td>The full description of main categories of data within each sector</td>\n",
       "      <td>Plain Text</td>\n",
       "      <td>NaN</td>\n",
       "      <td>NaN</td>\n",
       "    </tr>\n",
       "    <tr>\n",
       "      <th>4</th>\n",
       "      <td>Category Label</td>\n",
       "      <td>Shorthand description of the main categories of data within each sector</td>\n",
       "      <td>Plain Text</td>\n",
       "      <td>NaN</td>\n",
       "      <td>NaN</td>\n",
       "    </tr>\n",
       "    <tr>\n",
       "      <th>5</th>\n",
       "      <td>Source Full</td>\n",
       "      <td>Full description of the energy sources of emissions</td>\n",
       "      <td>Plain Text</td>\n",
       "      <td>NaN</td>\n",
       "      <td>NaN</td>\n",
       "    </tr>\n",
       "    <tr>\n",
       "      <th>6</th>\n",
       "      <td>Source Label</td>\n",
       "      <td>Shorthand description of the energy sources of emissions</td>\n",
       "      <td>Plain Text</td>\n",
       "      <td>NaN</td>\n",
       "      <td>NaN</td>\n",
       "    </tr>\n",
       "    <tr>\n",
       "      <th>7</th>\n",
       "      <td>Source Units</td>\n",
       "      <td>Units that track the amount of energy sources of emissions</td>\n",
       "      <td>Plain Text</td>\n",
       "      <td>NaN</td>\n",
       "      <td>NaN</td>\n",
       "    </tr>\n",
       "    <tr>\n",
       "      <th>8</th>\n",
       "      <td>CY (2005-2023) Consumed</td>\n",
       "      <td>Amount of energy in source units consumed for that category for that CY</td>\n",
       "      <td>Number</td>\n",
       "      <td>NaN</td>\n",
       "      <td>NaN</td>\n",
       "    </tr>\n",
       "    <tr>\n",
       "      <th>9</th>\n",
       "      <td>CY (2005-2023) tCO2e (100 yr GWP)</td>\n",
       "      <td>Amount of CO2e in tons emitted for that category for that CY</td>\n",
       "      <td>Number</td>\n",
       "      <td>NaN</td>\n",
       "      <td>tCO2e stands for tones (t) of carbon dioxide (CO2) equivalent.</td>\n",
       "    </tr>\n",
       "    <tr>\n",
       "      <th>10</th>\n",
       "      <td>CY (2005-2023) MMBtu</td>\n",
       "      <td>Amount of MMBtu in tons used for that category for that CY</td>\n",
       "      <td>Number</td>\n",
       "      <td>NaN</td>\n",
       "      <td>MMBtu stands for “Metric Million British Thermal Unit” – it is a traditional unit of heat or energy value, which is widely associated with measurement of natural gas in the energy terms worldwide.</td>\n",
       "    </tr>\n",
       "    <tr>\n",
       "      <th>11</th>\n",
       "      <td>CY (2005-2023) (20 yr GWP)</td>\n",
       "      <td>Amount of CO2e in tons emitted for that category for that CY considering a 20 year Global Warming Potential value for methane</td>\n",
       "      <td>Number</td>\n",
       "      <td>NaN</td>\n",
       "      <td>Global Warming Potential (GWP) was developed to allow comparisons of the global warming impacts of different gases.</td>\n",
       "    </tr>\n",
       "    <tr>\n",
       "      <th>12</th>\n",
       "      <td>2005 - 2023 % change Consumed</td>\n",
       "      <td>Percent change in source units of energy consumed from 2005 to 2023</td>\n",
       "      <td>Number</td>\n",
       "      <td>NaN</td>\n",
       "      <td>NaN</td>\n",
       "    </tr>\n",
       "    <tr>\n",
       "      <th>13</th>\n",
       "      <td>2005 - 2023 % change tCO2e</td>\n",
       "      <td>Percent change in CO2e in tons emitted for that category from 2005 to 2023</td>\n",
       "      <td>Number</td>\n",
       "      <td>NaN</td>\n",
       "      <td>NaN</td>\n",
       "    </tr>\n",
       "    <tr>\n",
       "      <th>14</th>\n",
       "      <td>2005 - 2023 % change Source MMBtu</td>\n",
       "      <td>Percent change in MMBtus used for that category from 2005 to 2023</td>\n",
       "      <td>Number</td>\n",
       "      <td>NaN</td>\n",
       "      <td>NaN</td>\n",
       "    </tr>\n",
       "    <tr>\n",
       "      <th>15</th>\n",
       "      <td>2005 - 2023 % change tCO2e 20 yr GWP</td>\n",
       "      <td>Percent change in COO2e in tons emitted  for that category considering a 20 year Global Warming Potential value for methane for 2005 to 2023</td>\n",
       "      <td>Number</td>\n",
       "      <td>NaN</td>\n",
       "      <td>NaN</td>\n",
       "    </tr>\n",
       "  </tbody>\n",
       "</table>\n",
       "</div>"
      ],
      "text/plain": [
       "                                                 Column Name  \\\n",
       "0   Name of the column exactly as it appears in the dataset.   \n",
       "1                                                  Inventory   \n",
       "2                                                     Sector   \n",
       "3                                              Category Full   \n",
       "4                                             Category Label   \n",
       "5                                                Source Full   \n",
       "6                                               Source Label   \n",
       "7                                               Source Units   \n",
       "8                                    CY (2005-2023) Consumed   \n",
       "9                          CY (2005-2023) tCO2e (100 yr GWP)   \n",
       "10                                      CY (2005-2023) MMBtu   \n",
       "11                                CY (2005-2023) (20 yr GWP)   \n",
       "12                             2005 - 2023 % change Consumed   \n",
       "13                                2005 - 2023 % change tCO2e   \n",
       "14                         2005 - 2023 % change Source MMBtu   \n",
       "15                      2005 - 2023 % change tCO2e 20 yr GWP   \n",
       "\n",
       "                                                                                                                              Column Description  \\\n",
       "0                                                                     A brief, plain-language explanation of what the data in the column means.    \n",
       "1                                                                                        Indicator of the inventory associated with that data.     \n",
       "2                                                                                                   Describes the main sectors of the inventory    \n",
       "3                                                                            The full description of main categories of data within each sector    \n",
       "4                                                                        Shorthand description of the main categories of data within each sector   \n",
       "5                                                                                            Full description of the energy sources of emissions   \n",
       "6                                                                                       Shorthand description of the energy sources of emissions   \n",
       "7                                                                                     Units that track the amount of energy sources of emissions   \n",
       "8                                                                        Amount of energy in source units consumed for that category for that CY   \n",
       "9                                                                                   Amount of CO2e in tons emitted for that category for that CY   \n",
       "10                                                                                    Amount of MMBtu in tons used for that category for that CY   \n",
       "11                Amount of CO2e in tons emitted for that category for that CY considering a 20 year Global Warming Potential value for methane    \n",
       "12                                                                           Percent change in source units of energy consumed from 2005 to 2023   \n",
       "13                                                                    Percent change in CO2e in tons emitted for that category from 2005 to 2023   \n",
       "14                                                                             Percent change in MMBtus used for that category from 2005 to 2023   \n",
       "15  Percent change in COO2e in tons emitted  for that category considering a 20 year Global Warming Potential value for methane for 2005 to 2023   \n",
       "\n",
       "                                                                                                                                                                                                                                                                                                                                                                                                                                Expected/Allowed Values  \\\n",
       "0   Specifies if there is an expected range and/or format of possible values. For example, if the data type is Date & Time, this field will note whether the timestamp is MM/DD/YYYY or MM/YYYY. If the Column Name is ice cream, this field might note that values can be Chocolate, Vanilla or Strawberry.\\n\\nIf relevant, this field specifies the unit of measurement of the data field, e.g. thousands, millions, $ value, miles, feet, year, etc.   \n",
       "1                                                                                                                                                                                                                                                                                                                                                                                                                                            Plain Text   \n",
       "2                                                                                                                                                                                                                                                                                                                                                                                                                                            Plain Text   \n",
       "3                                                                                                                                                                                                                                                                                                                                                                                                                                            Plain Text   \n",
       "4                                                                                                                                                                                                                                                                                                                                                                                                                                            Plain Text   \n",
       "5                                                                                                                                                                                                                                                                                                                                                                                                                                            Plain Text   \n",
       "6                                                                                                                                                                                                                                                                                                                                                                                                                                            Plain Text   \n",
       "7                                                                                                                                                                                                                                                                                                                                                                                                                                            Plain Text   \n",
       "8                                                                                                                                                                                                                                                                                                                                                                                                                                                Number   \n",
       "9                                                                                                                                                                                                                                                                                                                                                                                                                                                Number   \n",
       "10                                                                                                                                                                                                                                                                                                                                                                                                                                               Number   \n",
       "11                                                                                                                                                                                                                                                                                                                                                                                                                                               Number   \n",
       "12                                                                                                                                                                                                                                                                                                                                                                                                                                               Number   \n",
       "13                                                                                                                                                                                                                                                                                                                                                                                                                                               Number   \n",
       "14                                                                                                                                                                                                                                                                                                                                                                                                                                               Number   \n",
       "15                                                                                                                                                                                                                                                                                                                                                                                                                                               Number   \n",
       "\n",
       "                                                                                                                                                                                                                                                                                                                                                                                                                                                                                                                                                                                                                                                                                              Field Limitations  \\\n",
       "0   Describes any unique characteristics or potential analytical limitations presented by this field, including: \\n- the reasoning for any null, zero, or empty values in the data\\n- if the data in the column was integrated from another dataset or organization\\n- if the data covered includes a different time period\\n- the source of the column and how the data in the column was generated. \\n\\nFor example, information on how the data in this column was generated can include  whether the data was self-reported directly by a person, system generated by a database or agency system, derived through analytical manipulation of other fields or records; or obtained from a different agency.   \n",
       "1                                                                                                                                                                                                                                                                                                                                                                                                                                                                                                                                                                                                                                                                                                           NaN   \n",
       "2                                                                                                                                                                                                                                                                                                                                                                                                                                                                                                                                                                                                                                                                                                           NaN   \n",
       "3                                                                                                                                                                                                                                                                                                                                                                                                                                                                                                                                                                                                                                                                                                           NaN   \n",
       "4                                                                                                                                                                                                                                                                                                                                                                                                                                                                                                                                                                                                                                                                                                           NaN   \n",
       "5                                                                                                                                                                                                                                                                                                                                                                                                                                                                                                                                                                                                                                                                                                           NaN   \n",
       "6                                                                                                                                                                                                                                                                                                                                                                                                                                                                                                                                                                                                                                                                                                           NaN   \n",
       "7                                                                                                                                                                                                                                                                                                                                                                                                                                                                                                                                                                                                                                                                                                           NaN   \n",
       "8                                                                                                                                                                                                                                                                                                                                                                                                                                                                                                                                                                                                                                                                                                           NaN   \n",
       "9                                                                                                                                                                                                                                                                                                                                                                                                                                                                                                                                                                                                                                                                                                           NaN   \n",
       "10                                                                                                                                                                                                                                                                                                                                                                                                                                                                                                                                                                                                                                                                                                          NaN   \n",
       "11                                                                                                                                                                                                                                                                                                                                                                                                                                                                                                                                                                                                                                                                                                          NaN   \n",
       "12                                                                                                                                                                                                                                                                                                                                                                                                                                                                                                                                                                                                                                                                                                          NaN   \n",
       "13                                                                                                                                                                                                                                                                                                                                                                                                                                                                                                                                                                                                                                                                                                          NaN   \n",
       "14                                                                                                                                                                                                                                                                                                                                                                                                                                                                                                                                                                                                                                                                                                          NaN   \n",
       "15                                                                                                                                                                                                                                                                                                                                                                                                                                                                                                                                                                                                                                                                                                          NaN   \n",
       "\n",
       "                                                                                                                                                                                                                                                                                                                                                                     Additional Notes  \n",
       "0   Provides any additional relevant information about the data in the column, including: \\n- definitions of acronyms, special term or codes, or jargon that appears in the field values;\\n- the meaning of confusing or non-intuitive values in the data; \\n- how the information in this column relates to information in other columns;\\n- other unique details about this column.  \n",
       "1                                                                                                                                                                                                                                                                                                                                                                                 NaN  \n",
       "2                                                                                                                                                                                                                                                                                                                                                                                 NaN  \n",
       "3                                                                                                                                                                                                                                                                                                                                                                                 NaN  \n",
       "4                                                                                                                                                                                                                                                                                                                                                                                 NaN  \n",
       "5                                                                                                                                                                                                                                                                                                                                                                                 NaN  \n",
       "6                                                                                                                                                                                                                                                                                                                                                                                 NaN  \n",
       "7                                                                                                                                                                                                                                                                                                                                                                                 NaN  \n",
       "8                                                                                                                                                                                                                                                                                                                                                                                 NaN  \n",
       "9                                                                                                                                                                                                                                                                                                                      tCO2e stands for tones (t) of carbon dioxide (CO2) equivalent.  \n",
       "10                                                                                                                                                                               MMBtu stands for “Metric Million British Thermal Unit” – it is a traditional unit of heat or energy value, which is widely associated with measurement of natural gas in the energy terms worldwide.  \n",
       "11                                                                                                                                                                                                                                                                Global Warming Potential (GWP) was developed to allow comparisons of the global warming impacts of different gases.  \n",
       "12                                                                                                                                                                                                                                                                                                                                                                                NaN  \n",
       "13                                                                                                                                                                                                                                                                                                                                                                                NaN  \n",
       "14                                                                                                                                                                                                                                                                                                                                                                                NaN  \n",
       "15                                                                                                                                                                                                                                                                                                                                                                                NaN  "
      ]
     },
     "execution_count": 50,
     "metadata": {},
     "output_type": "execute_result"
    }
   ],
   "source": [
    "diccionario"
   ]
  }
 ],
 "metadata": {
  "kernelspec": {
   "display_name": "venv",
   "language": "python",
   "name": "python3"
  },
  "language_info": {
   "codemirror_mode": {
    "name": "ipython",
    "version": 3
   },
   "file_extension": ".py",
   "mimetype": "text/x-python",
   "name": "python",
   "nbconvert_exporter": "python",
   "pygments_lexer": "ipython3",
   "version": "3.11.9"
  }
 },
 "nbformat": 4,
 "nbformat_minor": 2
}
