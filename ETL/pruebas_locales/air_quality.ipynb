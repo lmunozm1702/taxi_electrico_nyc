{
 "cells": [
  {
   "cell_type": "code",
   "execution_count": 13,
   "metadata": {},
   "outputs": [],
   "source": [
    "#import numpy as np\n",
    "import pandas as pd\n",
    "#import matplotlib.pyplot as plt\n",
    "#from matplotlib.lines import Line2D\n",
    "#import seaborn as sns\n",
    "#from deep_translator import GoogleTranslator\n",
    "#from scipy import stats\n",
    "#from scipy.stats import pearsonr, spearmanr, kendalltau\n",
    "#from sklearn.preprocessing import LabelEncoder"
   ]
  },
  {
   "cell_type": "code",
   "execution_count": 19,
   "metadata": {},
   "outputs": [
    {
     "name": "stdout",
     "output_type": "stream",
     "text": [
      "<class 'pandas.core.frame.DataFrame'>\n",
      "RangeIndex: 18025 entries, 0 to 18024\n",
      "Data columns (total 12 columns):\n",
      " #   Column          Non-Null Count  Dtype  \n",
      "---  ------          --------------  -----  \n",
      " 0   Unique ID       18025 non-null  int64  \n",
      " 1   Indicator ID    18025 non-null  int64  \n",
      " 2   Name            18025 non-null  object \n",
      " 3   Measure         18025 non-null  object \n",
      " 4   Measure Info    18025 non-null  object \n",
      " 5   Geo Type Name   18025 non-null  object \n",
      " 6   Geo Join ID     18016 non-null  float64\n",
      " 7   Geo Place Name  18016 non-null  object \n",
      " 8   Time Period     18025 non-null  object \n",
      " 9   Start_Date      18025 non-null  object \n",
      " 10  Data Value      18025 non-null  float64\n",
      " 11  Message         0 non-null      float64\n",
      "dtypes: float64(3), int64(2), object(7)\n",
      "memory usage: 1.7+ MB\n",
      "Outliers eliminados en columna data_value: 980\n"
     ]
    }
   ],
   "source": [
    "#leer archivo parquet\n",
    "df = pd.read_csv('../../assets/Datasets/Air_Quality_20241206.csv')\n",
    "\n",
    "df.info()\n",
    "\n",
    "#Cambiar nombre de columnas\n",
    "df.columns = ['unique_id', 'indicator_id', 'name', 'measure', 'measure_info', 'geo_type_name', 'geo_join_id', 'geo_place_name', 'time_period', 'start_date', 'data_value', 'message']\n",
    "\n",
    "#Eliminar columna 'message'\n",
    "df.drop(columns=['message'], inplace=True)\n",
    "#Eliminar duplicados\n",
    "df.drop_duplicates(inplace=True)\n",
    "#Eliminar dupicados analizando columna 'unique_id'\n",
    "df.drop_duplicates(subset=['unique_id'], inplace=True)\n",
    "#Eliminar outliers en columna 'data_value'\n",
    "stats = df['data_value'].describe(percentiles=[.25, .5, .75])\n",
    "q1 = stats['25%']\n",
    "median = stats['50%']\n",
    "q3 = stats['75%']\n",
    "iqr = q3 - q1\n",
    "lower_fence = q1 - 1.5 * iqr\n",
    "upper_fence = q3 + 1.5 * iqr\n",
    "outliers = df[(df['data_value'] < lower_fence) | (df['data_value'] > upper_fence)].shape[0]\n",
    "within_box = df[(df['data_value'] >= q1) & (df['data_value'] <= q3)].shape[0]\n",
    "within_whiskers = df[(df['data_value'] >= lower_fence) & (df['data_value'] <= upper_fence)].shape[0]\n",
    "#eliminar los registros que no estén dentro de los whiskers\n",
    "df = df[(df['data_value'] >= lower_fence) & (df['data_value'] <= upper_fence)]\n",
    "print(f'Outliers eliminados en columna data_value: {outliers}')   \n",
    "#Datatype conversion\n",
    "df['name'] = df['name'].astype('string')\n",
    "df['measure'] = df['measure'].astype('string')\n",
    "df['measure_info'] = df['measure_info'].astype('string')\n",
    "df['geo_type_name'] = df['geo_type_name'].astype('string')\n",
    "df['geo_place_name'] = df['geo_place_name'].astype('string')\n",
    "df['start_date'] = pd.to_datetime(df['start_date'])\n",
    "\n",
    "#regenerar índice\n",
    "df.reset_index(drop=True, inplace=True)"
   ]
  }
 ],
 "metadata": {
  "kernelspec": {
   "display_name": "env",
   "language": "python",
   "name": "python3"
  },
  "language_info": {
   "codemirror_mode": {
    "name": "ipython",
    "version": 3
   },
   "file_extension": ".py",
   "mimetype": "text/x-python",
   "name": "python",
   "nbconvert_exporter": "python",
   "pygments_lexer": "ipython3",
   "version": "3.12.3"
  }
 },
 "nbformat": 4,
 "nbformat_minor": 2
}
