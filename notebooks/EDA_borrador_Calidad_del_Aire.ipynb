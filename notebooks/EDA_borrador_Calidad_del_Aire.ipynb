{
 "cells": [
  {
   "cell_type": "markdown",
   "metadata": {},
   "source": [
    "# Análisis Exploratorio de Datos del dataset `Air_Quality`"
   ]
  },
  {
   "cell_type": "markdown",
   "metadata": {},
   "source": [
    "## Importación de Librerías"
   ]
  },
  {
   "cell_type": "markdown",
   "metadata": {},
   "source": [
    "### Librerías Nativas"
   ]
  },
  {
   "cell_type": "code",
   "execution_count": 4,
   "metadata": {},
   "outputs": [],
   "source": [
    "import os\n",
    "import warnings"
   ]
  },
  {
   "cell_type": "markdown",
   "metadata": {},
   "source": [
    "### Librerías de Terceros"
   ]
  },
  {
   "cell_type": "code",
   "execution_count": 2,
   "metadata": {},
   "outputs": [],
   "source": [
    "import pandas as pd\n",
    "import matplotlib.pyplot as plt\n",
    "import seaborn as sns"
   ]
  },
  {
   "cell_type": "markdown",
   "metadata": {},
   "source": [
    "## Configuración General"
   ]
  },
  {
   "cell_type": "code",
   "execution_count": 5,
   "metadata": {},
   "outputs": [],
   "source": [
    "warnings.filterwarnings(\"ignore\")"
   ]
  },
  {
   "cell_type": "markdown",
   "metadata": {},
   "source": [
    "## Carga del Dataset"
   ]
  },
  {
   "cell_type": "code",
   "execution_count": 6,
   "metadata": {},
   "outputs": [
    {
     "data": {
      "text/plain": [
       "'c:\\\\Users\\\\franc\\\\Desktop\\\\taxi_electrico_nyc\\\\notebooks'"
      ]
     },
     "execution_count": 6,
     "metadata": {},
     "output_type": "execute_result"
    }
   ],
   "source": [
    "ruta_actual = os.getcwd()\n",
    "\n",
    "ruta_actual"
   ]
  },
  {
   "cell_type": "code",
   "execution_count": 7,
   "metadata": {},
   "outputs": [
    {
     "data": {
      "text/plain": [
       "'c:\\\\Users\\\\franc\\\\Desktop\\\\taxi_electrico_nyc'"
      ]
     },
     "execution_count": 7,
     "metadata": {},
     "output_type": "execute_result"
    }
   ],
   "source": [
    "ruta_del_proyecto = os.path.dirname(\n",
    "    ruta_actual\n",
    "    )\n",
    "\n",
    "ruta_del_proyecto"
   ]
  },
  {
   "cell_type": "code",
   "execution_count": 8,
   "metadata": {},
   "outputs": [
    {
     "data": {
      "text/plain": [
       "'c:\\\\Users\\\\franc\\\\Desktop\\\\taxi_electrico_nyc\\\\data\\\\Air_Quality_20241206.csv'"
      ]
     },
     "execution_count": 8,
     "metadata": {},
     "output_type": "execute_result"
    }
   ],
   "source": [
    "ruta_del_dataset = os.path.join(\n",
    "    ruta_del_proyecto, \n",
    "    'data', \n",
    "    'Air_Quality_20241206.csv'\n",
    "    )\n",
    "\n",
    "ruta_del_dataset"
   ]
  },
  {
   "cell_type": "code",
   "execution_count": 9,
   "metadata": {},
   "outputs": [],
   "source": [
    "air_quality = pd.read_csv(\n",
    "    ruta_del_dataset)"
   ]
  },
  {
   "cell_type": "markdown",
   "metadata": {},
   "source": [
    "## Exploración Inicial del Dataset"
   ]
  },
  {
   "cell_type": "code",
   "execution_count": 10,
   "metadata": {},
   "outputs": [
    {
     "data": {
      "text/html": [
       "<div>\n",
       "<style scoped>\n",
       "    .dataframe tbody tr th:only-of-type {\n",
       "        vertical-align: middle;\n",
       "    }\n",
       "\n",
       "    .dataframe tbody tr th {\n",
       "        vertical-align: top;\n",
       "    }\n",
       "\n",
       "    .dataframe thead th {\n",
       "        text-align: right;\n",
       "    }\n",
       "</style>\n",
       "<table border=\"1\" class=\"dataframe\">\n",
       "  <thead>\n",
       "    <tr style=\"text-align: right;\">\n",
       "      <th></th>\n",
       "      <th>Unique ID</th>\n",
       "      <th>Indicator ID</th>\n",
       "      <th>Name</th>\n",
       "      <th>Measure</th>\n",
       "      <th>Measure Info</th>\n",
       "      <th>Geo Type Name</th>\n",
       "      <th>Geo Join ID</th>\n",
       "      <th>Geo Place Name</th>\n",
       "      <th>Time Period</th>\n",
       "      <th>Start_Date</th>\n",
       "      <th>Data Value</th>\n",
       "      <th>Message</th>\n",
       "    </tr>\n",
       "  </thead>\n",
       "  <tbody>\n",
       "    <tr>\n",
       "      <th>0</th>\n",
       "      <td>179772</td>\n",
       "      <td>640</td>\n",
       "      <td>Boiler Emissions- Total SO2 Emissions</td>\n",
       "      <td>Number per km2</td>\n",
       "      <td>number</td>\n",
       "      <td>UHF42</td>\n",
       "      <td>409.0</td>\n",
       "      <td>Southeast Queens</td>\n",
       "      <td>2015</td>\n",
       "      <td>01/01/2015</td>\n",
       "      <td>0.3</td>\n",
       "      <td>NaN</td>\n",
       "    </tr>\n",
       "    <tr>\n",
       "      <th>1</th>\n",
       "      <td>179785</td>\n",
       "      <td>640</td>\n",
       "      <td>Boiler Emissions- Total SO2 Emissions</td>\n",
       "      <td>Number per km2</td>\n",
       "      <td>number</td>\n",
       "      <td>UHF42</td>\n",
       "      <td>209.0</td>\n",
       "      <td>Bensonhurst - Bay Ridge</td>\n",
       "      <td>2015</td>\n",
       "      <td>01/01/2015</td>\n",
       "      <td>1.2</td>\n",
       "      <td>NaN</td>\n",
       "    </tr>\n",
       "    <tr>\n",
       "      <th>2</th>\n",
       "      <td>178540</td>\n",
       "      <td>365</td>\n",
       "      <td>Fine particles (PM 2.5)</td>\n",
       "      <td>Mean</td>\n",
       "      <td>mcg/m3</td>\n",
       "      <td>UHF42</td>\n",
       "      <td>209.0</td>\n",
       "      <td>Bensonhurst - Bay Ridge</td>\n",
       "      <td>Annual Average 2012</td>\n",
       "      <td>12/01/2011</td>\n",
       "      <td>8.6</td>\n",
       "      <td>NaN</td>\n",
       "    </tr>\n",
       "    <tr>\n",
       "      <th>3</th>\n",
       "      <td>178561</td>\n",
       "      <td>365</td>\n",
       "      <td>Fine particles (PM 2.5)</td>\n",
       "      <td>Mean</td>\n",
       "      <td>mcg/m3</td>\n",
       "      <td>UHF42</td>\n",
       "      <td>409.0</td>\n",
       "      <td>Southeast Queens</td>\n",
       "      <td>Annual Average 2012</td>\n",
       "      <td>12/01/2011</td>\n",
       "      <td>8.0</td>\n",
       "      <td>NaN</td>\n",
       "    </tr>\n",
       "    <tr>\n",
       "      <th>4</th>\n",
       "      <td>823217</td>\n",
       "      <td>365</td>\n",
       "      <td>Fine particles (PM 2.5)</td>\n",
       "      <td>Mean</td>\n",
       "      <td>mcg/m3</td>\n",
       "      <td>UHF42</td>\n",
       "      <td>409.0</td>\n",
       "      <td>Southeast Queens</td>\n",
       "      <td>Summer 2022</td>\n",
       "      <td>06/01/2022</td>\n",
       "      <td>6.1</td>\n",
       "      <td>NaN</td>\n",
       "    </tr>\n",
       "  </tbody>\n",
       "</table>\n",
       "</div>"
      ],
      "text/plain": [
       "   Unique ID  Indicator ID                                   Name  \\\n",
       "0     179772           640  Boiler Emissions- Total SO2 Emissions   \n",
       "1     179785           640  Boiler Emissions- Total SO2 Emissions   \n",
       "2     178540           365                Fine particles (PM 2.5)   \n",
       "3     178561           365                Fine particles (PM 2.5)   \n",
       "4     823217           365                Fine particles (PM 2.5)   \n",
       "\n",
       "          Measure Measure Info Geo Type Name  Geo Join ID  \\\n",
       "0  Number per km2       number         UHF42        409.0   \n",
       "1  Number per km2       number         UHF42        209.0   \n",
       "2            Mean       mcg/m3         UHF42        209.0   \n",
       "3            Mean       mcg/m3         UHF42        409.0   \n",
       "4            Mean       mcg/m3         UHF42        409.0   \n",
       "\n",
       "            Geo Place Name          Time Period  Start_Date  Data Value  \\\n",
       "0         Southeast Queens                 2015  01/01/2015         0.3   \n",
       "1  Bensonhurst - Bay Ridge                 2015  01/01/2015         1.2   \n",
       "2  Bensonhurst - Bay Ridge  Annual Average 2012  12/01/2011         8.6   \n",
       "3         Southeast Queens  Annual Average 2012  12/01/2011         8.0   \n",
       "4         Southeast Queens          Summer 2022  06/01/2022         6.1   \n",
       "\n",
       "   Message  \n",
       "0      NaN  \n",
       "1      NaN  \n",
       "2      NaN  \n",
       "3      NaN  \n",
       "4      NaN  "
      ]
     },
     "execution_count": 10,
     "metadata": {},
     "output_type": "execute_result"
    }
   ],
   "source": [
    "air_quality.head(5)"
   ]
  },
  {
   "cell_type": "code",
   "execution_count": 13,
   "metadata": {},
   "outputs": [
    {
     "data": {
      "text/html": [
       "<div>\n",
       "<style scoped>\n",
       "    .dataframe tbody tr th:only-of-type {\n",
       "        vertical-align: middle;\n",
       "    }\n",
       "\n",
       "    .dataframe tbody tr th {\n",
       "        vertical-align: top;\n",
       "    }\n",
       "\n",
       "    .dataframe thead th {\n",
       "        text-align: right;\n",
       "    }\n",
       "</style>\n",
       "<table border=\"1\" class=\"dataframe\">\n",
       "  <thead>\n",
       "    <tr style=\"text-align: right;\">\n",
       "      <th></th>\n",
       "      <th>Unique ID</th>\n",
       "      <th>Indicator ID</th>\n",
       "      <th>Name</th>\n",
       "      <th>Measure</th>\n",
       "      <th>Measure Info</th>\n",
       "      <th>Geo Type Name</th>\n",
       "      <th>Geo Join ID</th>\n",
       "      <th>Geo Place Name</th>\n",
       "      <th>Time Period</th>\n",
       "      <th>Start_Date</th>\n",
       "      <th>Data Value</th>\n",
       "      <th>Message</th>\n",
       "    </tr>\n",
       "  </thead>\n",
       "  <tbody>\n",
       "    <tr>\n",
       "      <th>18020</th>\n",
       "      <td>816914</td>\n",
       "      <td>643</td>\n",
       "      <td>Annual vehicle miles traveled</td>\n",
       "      <td>Million miles</td>\n",
       "      <td>per square mile</td>\n",
       "      <td>CD</td>\n",
       "      <td>503.0</td>\n",
       "      <td>Tottenville and Great Kills (CD3)</td>\n",
       "      <td>2019</td>\n",
       "      <td>01/01/2019</td>\n",
       "      <td>12.9</td>\n",
       "      <td>NaN</td>\n",
       "    </tr>\n",
       "    <tr>\n",
       "      <th>18021</th>\n",
       "      <td>816913</td>\n",
       "      <td>643</td>\n",
       "      <td>Annual vehicle miles traveled</td>\n",
       "      <td>Million miles</td>\n",
       "      <td>per square mile</td>\n",
       "      <td>CD</td>\n",
       "      <td>503.0</td>\n",
       "      <td>Tottenville and Great Kills (CD3)</td>\n",
       "      <td>2010</td>\n",
       "      <td>01/01/2010</td>\n",
       "      <td>14.7</td>\n",
       "      <td>NaN</td>\n",
       "    </tr>\n",
       "    <tr>\n",
       "      <th>18022</th>\n",
       "      <td>816872</td>\n",
       "      <td>643</td>\n",
       "      <td>Annual vehicle miles traveled</td>\n",
       "      <td>Million miles</td>\n",
       "      <td>per square mile</td>\n",
       "      <td>UHF42</td>\n",
       "      <td>208.0</td>\n",
       "      <td>Canarsie - Flatlands</td>\n",
       "      <td>2010</td>\n",
       "      <td>01/01/2010</td>\n",
       "      <td>43.4</td>\n",
       "      <td>NaN</td>\n",
       "    </tr>\n",
       "    <tr>\n",
       "      <th>18023</th>\n",
       "      <td>816832</td>\n",
       "      <td>643</td>\n",
       "      <td>Annual vehicle miles traveled</td>\n",
       "      <td>Million miles</td>\n",
       "      <td>per square mile</td>\n",
       "      <td>UHF42</td>\n",
       "      <td>407.0</td>\n",
       "      <td>Southwest Queens</td>\n",
       "      <td>2010</td>\n",
       "      <td>01/01/2010</td>\n",
       "      <td>65.8</td>\n",
       "      <td>NaN</td>\n",
       "    </tr>\n",
       "    <tr>\n",
       "      <th>18024</th>\n",
       "      <td>151658</td>\n",
       "      <td>643</td>\n",
       "      <td>Annual vehicle miles traveled</td>\n",
       "      <td>Million miles</td>\n",
       "      <td>per square mile</td>\n",
       "      <td>UHF42</td>\n",
       "      <td>408.0</td>\n",
       "      <td>Jamaica</td>\n",
       "      <td>2005</td>\n",
       "      <td>01/01/2005</td>\n",
       "      <td>41.0</td>\n",
       "      <td>NaN</td>\n",
       "    </tr>\n",
       "  </tbody>\n",
       "</table>\n",
       "</div>"
      ],
      "text/plain": [
       "       Unique ID  Indicator ID                           Name        Measure  \\\n",
       "18020     816914           643  Annual vehicle miles traveled  Million miles   \n",
       "18021     816913           643  Annual vehicle miles traveled  Million miles   \n",
       "18022     816872           643  Annual vehicle miles traveled  Million miles   \n",
       "18023     816832           643  Annual vehicle miles traveled  Million miles   \n",
       "18024     151658           643  Annual vehicle miles traveled  Million miles   \n",
       "\n",
       "          Measure Info Geo Type Name  Geo Join ID  \\\n",
       "18020  per square mile            CD        503.0   \n",
       "18021  per square mile            CD        503.0   \n",
       "18022  per square mile         UHF42        208.0   \n",
       "18023  per square mile         UHF42        407.0   \n",
       "18024  per square mile         UHF42        408.0   \n",
       "\n",
       "                          Geo Place Name Time Period  Start_Date  Data Value  \\\n",
       "18020  Tottenville and Great Kills (CD3)        2019  01/01/2019        12.9   \n",
       "18021  Tottenville and Great Kills (CD3)        2010  01/01/2010        14.7   \n",
       "18022               Canarsie - Flatlands        2010  01/01/2010        43.4   \n",
       "18023                   Southwest Queens        2010  01/01/2010        65.8   \n",
       "18024                            Jamaica        2005  01/01/2005        41.0   \n",
       "\n",
       "       Message  \n",
       "18020      NaN  \n",
       "18021      NaN  \n",
       "18022      NaN  \n",
       "18023      NaN  \n",
       "18024      NaN  "
      ]
     },
     "execution_count": 13,
     "metadata": {},
     "output_type": "execute_result"
    }
   ],
   "source": [
    "air_quality.tail(5)"
   ]
  },
  {
   "cell_type": "markdown",
   "metadata": {},
   "source": [
    "## Análisis de la Estructura de los datos"
   ]
  },
  {
   "cell_type": "code",
   "execution_count": 14,
   "metadata": {},
   "outputs": [
    {
     "name": "stdout",
     "output_type": "stream",
     "text": [
      "<class 'pandas.core.frame.DataFrame'>\n",
      "RangeIndex: 18025 entries, 0 to 18024\n",
      "Data columns (total 12 columns):\n",
      " #   Column          Non-Null Count  Dtype  \n",
      "---  ------          --------------  -----  \n",
      " 0   Unique ID       18025 non-null  int64  \n",
      " 1   Indicator ID    18025 non-null  int64  \n",
      " 2   Name            18025 non-null  object \n",
      " 3   Measure         18025 non-null  object \n",
      " 4   Measure Info    18025 non-null  object \n",
      " 5   Geo Type Name   18025 non-null  object \n",
      " 6   Geo Join ID     18016 non-null  float64\n",
      " 7   Geo Place Name  18016 non-null  object \n",
      " 8   Time Period     18025 non-null  object \n",
      " 9   Start_Date      18025 non-null  object \n",
      " 10  Data Value      18025 non-null  float64\n",
      " 11  Message         0 non-null      float64\n",
      "dtypes: float64(3), int64(2), object(7)\n",
      "memory usage: 1.7+ MB\n"
     ]
    }
   ],
   "source": [
    "air_quality.info()"
   ]
  },
  {
   "cell_type": "code",
   "execution_count": 16,
   "metadata": {},
   "outputs": [
    {
     "name": "stdout",
     "output_type": "stream",
     "text": [
      "Unique ID\n",
      "Indicator ID\n",
      "Name\n",
      "Measure\n",
      "Measure Info\n",
      "Geo Type Name\n",
      "Geo Join ID\n",
      "Geo Place Name\n",
      "Time Period\n",
      "Start_Date\n",
      "Data Value\n",
      "Message\n"
     ]
    }
   ],
   "source": [
    "for columna in air_quality.columns:\n",
    "    print(columna)"
   ]
  },
  {
   "cell_type": "code",
   "execution_count": 17,
   "metadata": {},
   "outputs": [
    {
     "data": {
      "text/plain": [
       "Unique ID           int64\n",
       "Indicator ID        int64\n",
       "Name               object\n",
       "Measure            object\n",
       "Measure Info       object\n",
       "Geo Type Name      object\n",
       "Geo Join ID       float64\n",
       "Geo Place Name     object\n",
       "Time Period        object\n",
       "Start_Date         object\n",
       "Data Value        float64\n",
       "Message           float64\n",
       "dtype: object"
      ]
     },
     "execution_count": 17,
     "metadata": {},
     "output_type": "execute_result"
    }
   ],
   "source": [
    "air_quality.dtypes"
   ]
  },
  {
   "cell_type": "code",
   "execution_count": 19,
   "metadata": {},
   "outputs": [
    {
     "data": {
      "text/plain": [
       "18025"
      ]
     },
     "execution_count": 19,
     "metadata": {},
     "output_type": "execute_result"
    }
   ],
   "source": [
    "air_quality.shape[0]"
   ]
  },
  {
   "cell_type": "code",
   "execution_count": 21,
   "metadata": {},
   "outputs": [
    {
     "data": {
      "text/plain": [
       "12"
      ]
     },
     "execution_count": 21,
     "metadata": {},
     "output_type": "execute_result"
    }
   ],
   "source": [
    "air_quality.shape[1]"
   ]
  },
  {
   "cell_type": "markdown",
   "metadata": {},
   "source": [
    "## Descriptivo del Diccionario de Datos"
   ]
  },
  {
   "cell_type": "code",
   "execution_count": null,
   "metadata": {},
   "outputs": [],
   "source": []
  },
  {
   "cell_type": "code",
   "execution_count": 23,
   "metadata": {},
   "outputs": [
    {
     "data": {
      "text/plain": [
       "'c:\\\\Users\\\\franc\\\\Desktop\\\\taxi_electrico_nyc\\\\reports\\\\Data-Dictionary-Air_Quality_2024.xlsx'"
      ]
     },
     "execution_count": 23,
     "metadata": {},
     "output_type": "execute_result"
    }
   ],
   "source": [
    "ruta_del_diccionario = os.path.join(\n",
    "    ruta_del_proyecto, \n",
    "    'reports', \n",
    "    'Data-Dictionary-Air_Quality_2024.xlsx'\n",
    "    )\n",
    "\n",
    "ruta_del_diccionario"
   ]
  },
  {
   "cell_type": "code",
   "execution_count": 27,
   "metadata": {},
   "outputs": [],
   "source": [
    "diccionario = pd.read_excel(ruta_del_diccionario, sheet_name='Column Information')\n"
   ]
  },
  {
   "cell_type": "code",
   "execution_count": 28,
   "metadata": {},
   "outputs": [
    {
     "data": {
      "text/html": [
       "<div>\n",
       "<style scoped>\n",
       "    .dataframe tbody tr th:only-of-type {\n",
       "        vertical-align: middle;\n",
       "    }\n",
       "\n",
       "    .dataframe tbody tr th {\n",
       "        vertical-align: top;\n",
       "    }\n",
       "\n",
       "    .dataframe thead th {\n",
       "        text-align: right;\n",
       "    }\n",
       "</style>\n",
       "<table border=\"1\" class=\"dataframe\">\n",
       "  <thead>\n",
       "    <tr style=\"text-align: right;\">\n",
       "      <th></th>\n",
       "      <th>Data Dictionary - Column Information</th>\n",
       "      <th>Unnamed: 1</th>\n",
       "      <th>Unnamed: 2</th>\n",
       "      <th>Unnamed: 3</th>\n",
       "      <th>Unnamed: 4</th>\n",
       "    </tr>\n",
       "  </thead>\n",
       "  <tbody>\n",
       "    <tr>\n",
       "      <th>0</th>\n",
       "      <td>Column Name</td>\n",
       "      <td>Column Description</td>\n",
       "      <td>Expected/Allowed Values</td>\n",
       "      <td>Field Limitations</td>\n",
       "      <td>Additional Notes</td>\n",
       "    </tr>\n",
       "    <tr>\n",
       "      <th>1</th>\n",
       "      <td>Name of the column exactly as it appears in th...</td>\n",
       "      <td>A brief, plain-language explanation of what th...</td>\n",
       "      <td>Specifies if there is an expected range and/or...</td>\n",
       "      <td>Describes any unique characteristics or potent...</td>\n",
       "      <td>NaN</td>\n",
       "    </tr>\n",
       "    <tr>\n",
       "      <th>2</th>\n",
       "      <td>unique_id</td>\n",
       "      <td>Unique record identifier</td>\n",
       "      <td>NaN</td>\n",
       "      <td>NaN</td>\n",
       "      <td>NaN</td>\n",
       "    </tr>\n",
       "    <tr>\n",
       "      <th>3</th>\n",
       "      <td>indicator_id</td>\n",
       "      <td>Identifier of the type of measured value acros...</td>\n",
       "      <td>NaN</td>\n",
       "      <td>Indicators have the same data source, but may ...</td>\n",
       "      <td>NaN</td>\n",
       "    </tr>\n",
       "    <tr>\n",
       "      <th>4</th>\n",
       "      <td>name</td>\n",
       "      <td>Name of the indicator</td>\n",
       "      <td>NaN</td>\n",
       "      <td>Indicators have the same data source, but may ...</td>\n",
       "      <td>NaN</td>\n",
       "    </tr>\n",
       "    <tr>\n",
       "      <th>5</th>\n",
       "      <td>measure</td>\n",
       "      <td>How the indicator is measured</td>\n",
       "      <td>NaN</td>\n",
       "      <td>This could indicate that data values are rates...</td>\n",
       "      <td>NaN</td>\n",
       "    </tr>\n",
       "    <tr>\n",
       "      <th>6</th>\n",
       "      <td>measure_info</td>\n",
       "      <td>Information (such as units) about the measure</td>\n",
       "      <td>NaN</td>\n",
       "      <td>NaN</td>\n",
       "      <td>NaN</td>\n",
       "    </tr>\n",
       "    <tr>\n",
       "      <th>7</th>\n",
       "      <td>geo_type_name</td>\n",
       "      <td>Geography type</td>\n",
       "      <td>UHF' stands for United Hospital Fund neighborh...</td>\n",
       "      <td>For instance, Citywide, Borough, and Community...</td>\n",
       "      <td>NaN</td>\n",
       "    </tr>\n",
       "    <tr>\n",
       "      <th>8</th>\n",
       "      <td>geo_join_id</td>\n",
       "      <td>Identifier of the neighborhood geographic area...</td>\n",
       "      <td>NaN</td>\n",
       "      <td>Reference the geo_type_name to know which geog...</td>\n",
       "      <td>NaN</td>\n",
       "    </tr>\n",
       "    <tr>\n",
       "      <th>9</th>\n",
       "      <td>geo_place_name</td>\n",
       "      <td>Neighborhood name</td>\n",
       "      <td>NaN</td>\n",
       "      <td>Could be 'Brownsville' or 'Brooklyn' or other ...</td>\n",
       "      <td>NaN</td>\n",
       "    </tr>\n",
       "    <tr>\n",
       "      <th>10</th>\n",
       "      <td>time_period</td>\n",
       "      <td>Description of the time that the data applies to</td>\n",
       "      <td>NaN</td>\n",
       "      <td>Could be a year, range of years, or season for...</td>\n",
       "      <td>NaN</td>\n",
       "    </tr>\n",
       "    <tr>\n",
       "      <th>11</th>\n",
       "      <td>start_date</td>\n",
       "      <td>Date value for the start of the time_period</td>\n",
       "      <td>NaN</td>\n",
       "      <td>Always a date value; could be useful for plott...</td>\n",
       "      <td>NaN</td>\n",
       "    </tr>\n",
       "    <tr>\n",
       "      <th>12</th>\n",
       "      <td>data_value</td>\n",
       "      <td>The actual data value for this indicator, meas...</td>\n",
       "      <td>NaN</td>\n",
       "      <td>NaN</td>\n",
       "      <td>NaN</td>\n",
       "    </tr>\n",
       "    <tr>\n",
       "      <th>13</th>\n",
       "      <td>message</td>\n",
       "      <td>notes that apply to the data value</td>\n",
       "      <td>NaN</td>\n",
       "      <td>For example, if an estimate is based on small ...</td>\n",
       "      <td>NaN</td>\n",
       "    </tr>\n",
       "  </tbody>\n",
       "</table>\n",
       "</div>"
      ],
      "text/plain": [
       "                 Data Dictionary - Column Information  \\\n",
       "0                                         Column Name   \n",
       "1   Name of the column exactly as it appears in th...   \n",
       "2                                           unique_id   \n",
       "3                                        indicator_id   \n",
       "4                                                name   \n",
       "5                                             measure   \n",
       "6                                        measure_info   \n",
       "7                                       geo_type_name   \n",
       "8                                         geo_join_id   \n",
       "9                                      geo_place_name   \n",
       "10                                        time_period   \n",
       "11                                         start_date   \n",
       "12                                         data_value   \n",
       "13                                            message   \n",
       "\n",
       "                                           Unnamed: 1  \\\n",
       "0                                  Column Description   \n",
       "1   A brief, plain-language explanation of what th...   \n",
       "2                            Unique record identifier   \n",
       "3   Identifier of the type of measured value acros...   \n",
       "4                               Name of the indicator   \n",
       "5                       How the indicator is measured   \n",
       "6       Information (such as units) about the measure   \n",
       "7                                      Geography type   \n",
       "8   Identifier of the neighborhood geographic area...   \n",
       "9                                   Neighborhood name   \n",
       "10  Description of the time that the data applies to    \n",
       "11        Date value for the start of the time_period   \n",
       "12  The actual data value for this indicator, meas...   \n",
       "13                 notes that apply to the data value   \n",
       "\n",
       "                                           Unnamed: 2  \\\n",
       "0                             Expected/Allowed Values   \n",
       "1   Specifies if there is an expected range and/or...   \n",
       "2                                                 NaN   \n",
       "3                                                 NaN   \n",
       "4                                                 NaN   \n",
       "5                                                 NaN   \n",
       "6                                                 NaN   \n",
       "7   UHF' stands for United Hospital Fund neighborh...   \n",
       "8                                                 NaN   \n",
       "9                                                 NaN   \n",
       "10                                                NaN   \n",
       "11                                                NaN   \n",
       "12                                                NaN   \n",
       "13                                                NaN   \n",
       "\n",
       "                                           Unnamed: 3        Unnamed: 4  \n",
       "0                                   Field Limitations  Additional Notes  \n",
       "1   Describes any unique characteristics or potent...               NaN  \n",
       "2                                                 NaN               NaN  \n",
       "3   Indicators have the same data source, but may ...               NaN  \n",
       "4   Indicators have the same data source, but may ...               NaN  \n",
       "5   This could indicate that data values are rates...               NaN  \n",
       "6                                                 NaN               NaN  \n",
       "7   For instance, Citywide, Borough, and Community...               NaN  \n",
       "8   Reference the geo_type_name to know which geog...               NaN  \n",
       "9   Could be 'Brownsville' or 'Brooklyn' or other ...               NaN  \n",
       "10  Could be a year, range of years, or season for...               NaN  \n",
       "11  Always a date value; could be useful for plott...               NaN  \n",
       "12                                                NaN               NaN  \n",
       "13  For example, if an estimate is based on small ...               NaN  "
      ]
     },
     "execution_count": 28,
     "metadata": {},
     "output_type": "execute_result"
    }
   ],
   "source": [
    "diccionario"
   ]
  },
  {
   "cell_type": "code",
   "execution_count": null,
   "metadata": {},
   "outputs": [],
   "source": []
  },
  {
   "cell_type": "markdown",
   "metadata": {},
   "source": [
    "## Estadísticas Descriptivas"
   ]
  },
  {
   "cell_type": "code",
   "execution_count": null,
   "metadata": {},
   "outputs": [],
   "source": []
  },
  {
   "cell_type": "markdown",
   "metadata": {},
   "source": [
    "## Detección y Tratamiento de Valores Faltantes"
   ]
  },
  {
   "cell_type": "code",
   "execution_count": null,
   "metadata": {},
   "outputs": [],
   "source": []
  },
  {
   "cell_type": "markdown",
   "metadata": {},
   "source": [
    "## Detección y Tratamiento de Valores Nulos"
   ]
  },
  {
   "cell_type": "code",
   "execution_count": null,
   "metadata": {},
   "outputs": [],
   "source": []
  },
  {
   "cell_type": "markdown",
   "metadata": {},
   "source": [
    "## Detección y Tratamiento de Valores Duplicados"
   ]
  },
  {
   "cell_type": "code",
   "execution_count": null,
   "metadata": {},
   "outputs": [],
   "source": []
  },
  {
   "cell_type": "markdown",
   "metadata": {},
   "source": [
    "## Análisis de Valores Atípicos (Outliers)"
   ]
  },
  {
   "cell_type": "code",
   "execution_count": null,
   "metadata": {},
   "outputs": [],
   "source": []
  },
  {
   "cell_type": "markdown",
   "metadata": {},
   "source": [
    "## Distribución de Datos"
   ]
  },
  {
   "cell_type": "code",
   "execution_count": null,
   "metadata": {},
   "outputs": [],
   "source": []
  },
  {
   "cell_type": "markdown",
   "metadata": {},
   "source": [
    "## Análisis de Correlaciones"
   ]
  },
  {
   "cell_type": "code",
   "execution_count": null,
   "metadata": {},
   "outputs": [],
   "source": []
  },
  {
   "cell_type": "markdown",
   "metadata": {},
   "source": [
    "## Análisis Univariado"
   ]
  },
  {
   "cell_type": "code",
   "execution_count": null,
   "metadata": {},
   "outputs": [],
   "source": []
  },
  {
   "cell_type": "markdown",
   "metadata": {},
   "source": [
    "## Análisis Bivariado"
   ]
  },
  {
   "cell_type": "code",
   "execution_count": null,
   "metadata": {},
   "outputs": [],
   "source": []
  },
  {
   "cell_type": "markdown",
   "metadata": {},
   "source": [
    "## Análisis Multivariado"
   ]
  },
  {
   "cell_type": "code",
   "execution_count": null,
   "metadata": {},
   "outputs": [],
   "source": []
  },
  {
   "cell_type": "markdown",
   "metadata": {},
   "source": [
    "## Transformaciones y Creaciones de Nuevas Variables"
   ]
  },
  {
   "cell_type": "code",
   "execution_count": null,
   "metadata": {},
   "outputs": [],
   "source": []
  },
  {
   "cell_type": "markdown",
   "metadata": {},
   "source": [
    "## Documentación y Reportes"
   ]
  }
 ],
 "metadata": {
  "kernelspec": {
   "display_name": "venv",
   "language": "python",
   "name": "python3"
  },
  "language_info": {
   "codemirror_mode": {
    "name": "ipython",
    "version": 3
   },
   "file_extension": ".py",
   "mimetype": "text/x-python",
   "name": "python",
   "nbconvert_exporter": "python",
   "pygments_lexer": "ipython3",
   "version": "3.11.9"
  }
 },
 "nbformat": 4,
 "nbformat_minor": 2
}
