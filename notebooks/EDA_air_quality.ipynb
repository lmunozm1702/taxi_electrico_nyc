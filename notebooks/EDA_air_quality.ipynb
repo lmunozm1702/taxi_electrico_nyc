{
 "cells": [
  {
   "cell_type": "code",
   "execution_count": 46,
   "metadata": {},
   "outputs": [],
   "source": [
    "import os\n",
    "import warnings"
   ]
  },
  {
   "cell_type": "code",
   "execution_count": 47,
   "metadata": {},
   "outputs": [],
   "source": [
    "import pandas as pd\n",
    "import matplotlib.pyplot as plt\n",
    "import xlrd"
   ]
  },
  {
   "cell_type": "code",
   "execution_count": 48,
   "metadata": {},
   "outputs": [],
   "source": [
    "warnings.filterwarnings(\"ignore\")"
   ]
  },
  {
   "cell_type": "code",
   "execution_count": 49,
   "metadata": {},
   "outputs": [],
   "source": [
    "pd.set_option('display.max_columns', None)"
   ]
  },
  {
   "cell_type": "code",
   "execution_count": 50,
   "metadata": {},
   "outputs": [
    {
     "data": {
      "text/plain": [
       "'c:\\\\Users\\\\franc\\\\Desktop\\\\taxi_electrico_nyc\\\\notebooks'"
      ]
     },
     "execution_count": 50,
     "metadata": {},
     "output_type": "execute_result"
    }
   ],
   "source": [
    "ruta_actual = os.getcwd()\n",
    "\n",
    "ruta_actual"
   ]
  },
  {
   "cell_type": "code",
   "execution_count": 51,
   "metadata": {},
   "outputs": [
    {
     "data": {
      "text/plain": [
       "'c:\\\\Users\\\\franc\\\\Desktop\\\\taxi_electrico_nyc'"
      ]
     },
     "execution_count": 51,
     "metadata": {},
     "output_type": "execute_result"
    }
   ],
   "source": [
    "ruta_del_proyecto = os.path.dirname(\n",
    "    ruta_actual\n",
    "    )\n",
    "\n",
    "ruta_del_proyecto"
   ]
  },
  {
   "cell_type": "code",
   "execution_count": 52,
   "metadata": {},
   "outputs": [
    {
     "data": {
      "text/plain": [
       "'c:\\\\Users\\\\franc\\\\Desktop\\\\taxi_electrico_nyc\\\\data\\\\Air_Quality_20241206.csv'"
      ]
     },
     "execution_count": 52,
     "metadata": {},
     "output_type": "execute_result"
    }
   ],
   "source": [
    "ruta_del_dataset = os.path.join(\n",
    "    ruta_del_proyecto, \n",
    "    'data', \n",
    "    'Air_Quality_20241206.csv'\n",
    "    )\n",
    "\n",
    "ruta_del_dataset"
   ]
  },
  {
   "cell_type": "code",
   "execution_count": 53,
   "metadata": {},
   "outputs": [],
   "source": [
    "air_quality = pd.read_csv(\n",
    "    ruta_del_dataset\n",
    "    )"
   ]
  },
  {
   "cell_type": "code",
   "execution_count": 54,
   "metadata": {},
   "outputs": [
    {
     "data": {
      "text/html": [
       "<div>\n",
       "<style scoped>\n",
       "    .dataframe tbody tr th:only-of-type {\n",
       "        vertical-align: middle;\n",
       "    }\n",
       "\n",
       "    .dataframe tbody tr th {\n",
       "        vertical-align: top;\n",
       "    }\n",
       "\n",
       "    .dataframe thead th {\n",
       "        text-align: right;\n",
       "    }\n",
       "</style>\n",
       "<table border=\"1\" class=\"dataframe\">\n",
       "  <thead>\n",
       "    <tr style=\"text-align: right;\">\n",
       "      <th></th>\n",
       "      <th>Unique ID</th>\n",
       "      <th>Indicator ID</th>\n",
       "      <th>Name</th>\n",
       "      <th>Measure</th>\n",
       "      <th>Measure Info</th>\n",
       "      <th>Geo Type Name</th>\n",
       "      <th>Geo Join ID</th>\n",
       "      <th>Geo Place Name</th>\n",
       "      <th>Time Period</th>\n",
       "      <th>Start_Date</th>\n",
       "      <th>Data Value</th>\n",
       "      <th>Message</th>\n",
       "    </tr>\n",
       "  </thead>\n",
       "  <tbody>\n",
       "    <tr>\n",
       "      <th>0</th>\n",
       "      <td>179772</td>\n",
       "      <td>640</td>\n",
       "      <td>Boiler Emissions- Total SO2 Emissions</td>\n",
       "      <td>Number per km2</td>\n",
       "      <td>number</td>\n",
       "      <td>UHF42</td>\n",
       "      <td>409.0</td>\n",
       "      <td>Southeast Queens</td>\n",
       "      <td>2015</td>\n",
       "      <td>01/01/2015</td>\n",
       "      <td>0.3</td>\n",
       "      <td>NaN</td>\n",
       "    </tr>\n",
       "    <tr>\n",
       "      <th>1</th>\n",
       "      <td>179785</td>\n",
       "      <td>640</td>\n",
       "      <td>Boiler Emissions- Total SO2 Emissions</td>\n",
       "      <td>Number per km2</td>\n",
       "      <td>number</td>\n",
       "      <td>UHF42</td>\n",
       "      <td>209.0</td>\n",
       "      <td>Bensonhurst - Bay Ridge</td>\n",
       "      <td>2015</td>\n",
       "      <td>01/01/2015</td>\n",
       "      <td>1.2</td>\n",
       "      <td>NaN</td>\n",
       "    </tr>\n",
       "    <tr>\n",
       "      <th>2</th>\n",
       "      <td>178540</td>\n",
       "      <td>365</td>\n",
       "      <td>Fine particles (PM 2.5)</td>\n",
       "      <td>Mean</td>\n",
       "      <td>mcg/m3</td>\n",
       "      <td>UHF42</td>\n",
       "      <td>209.0</td>\n",
       "      <td>Bensonhurst - Bay Ridge</td>\n",
       "      <td>Annual Average 2012</td>\n",
       "      <td>12/01/2011</td>\n",
       "      <td>8.6</td>\n",
       "      <td>NaN</td>\n",
       "    </tr>\n",
       "    <tr>\n",
       "      <th>3</th>\n",
       "      <td>178561</td>\n",
       "      <td>365</td>\n",
       "      <td>Fine particles (PM 2.5)</td>\n",
       "      <td>Mean</td>\n",
       "      <td>mcg/m3</td>\n",
       "      <td>UHF42</td>\n",
       "      <td>409.0</td>\n",
       "      <td>Southeast Queens</td>\n",
       "      <td>Annual Average 2012</td>\n",
       "      <td>12/01/2011</td>\n",
       "      <td>8.0</td>\n",
       "      <td>NaN</td>\n",
       "    </tr>\n",
       "    <tr>\n",
       "      <th>4</th>\n",
       "      <td>823217</td>\n",
       "      <td>365</td>\n",
       "      <td>Fine particles (PM 2.5)</td>\n",
       "      <td>Mean</td>\n",
       "      <td>mcg/m3</td>\n",
       "      <td>UHF42</td>\n",
       "      <td>409.0</td>\n",
       "      <td>Southeast Queens</td>\n",
       "      <td>Summer 2022</td>\n",
       "      <td>06/01/2022</td>\n",
       "      <td>6.1</td>\n",
       "      <td>NaN</td>\n",
       "    </tr>\n",
       "  </tbody>\n",
       "</table>\n",
       "</div>"
      ],
      "text/plain": [
       "   Unique ID  Indicator ID                                   Name  \\\n",
       "0     179772           640  Boiler Emissions- Total SO2 Emissions   \n",
       "1     179785           640  Boiler Emissions- Total SO2 Emissions   \n",
       "2     178540           365                Fine particles (PM 2.5)   \n",
       "3     178561           365                Fine particles (PM 2.5)   \n",
       "4     823217           365                Fine particles (PM 2.5)   \n",
       "\n",
       "          Measure Measure Info Geo Type Name  Geo Join ID  \\\n",
       "0  Number per km2       number         UHF42        409.0   \n",
       "1  Number per km2       number         UHF42        209.0   \n",
       "2            Mean       mcg/m3         UHF42        209.0   \n",
       "3            Mean       mcg/m3         UHF42        409.0   \n",
       "4            Mean       mcg/m3         UHF42        409.0   \n",
       "\n",
       "            Geo Place Name          Time Period  Start_Date  Data Value  \\\n",
       "0         Southeast Queens                 2015  01/01/2015         0.3   \n",
       "1  Bensonhurst - Bay Ridge                 2015  01/01/2015         1.2   \n",
       "2  Bensonhurst - Bay Ridge  Annual Average 2012  12/01/2011         8.6   \n",
       "3         Southeast Queens  Annual Average 2012  12/01/2011         8.0   \n",
       "4         Southeast Queens          Summer 2022  06/01/2022         6.1   \n",
       "\n",
       "   Message  \n",
       "0      NaN  \n",
       "1      NaN  \n",
       "2      NaN  \n",
       "3      NaN  \n",
       "4      NaN  "
      ]
     },
     "execution_count": 54,
     "metadata": {},
     "output_type": "execute_result"
    }
   ],
   "source": [
    "air_quality.head()"
   ]
  },
  {
   "cell_type": "markdown",
   "metadata": {},
   "source": [
    "### Tipos de datos"
   ]
  },
  {
   "cell_type": "code",
   "execution_count": 55,
   "metadata": {},
   "outputs": [
    {
     "data": {
      "text/plain": [
       "Unique ID           int64\n",
       "Indicator ID        int64\n",
       "Name               object\n",
       "Measure            object\n",
       "Measure Info       object\n",
       "Geo Type Name      object\n",
       "Geo Join ID       float64\n",
       "Geo Place Name     object\n",
       "Time Period        object\n",
       "Start_Date         object\n",
       "Data Value        float64\n",
       "Message           float64\n",
       "dtype: object"
      ]
     },
     "execution_count": 55,
     "metadata": {},
     "output_type": "execute_result"
    }
   ],
   "source": [
    "air_quality.dtypes"
   ]
  },
  {
   "cell_type": "markdown",
   "metadata": {},
   "source": [
    "### Valores Nulos"
   ]
  },
  {
   "cell_type": "code",
   "execution_count": 56,
   "metadata": {},
   "outputs": [
    {
     "data": {
      "text/plain": [
       "Unique ID             0\n",
       "Indicator ID          0\n",
       "Name                  0\n",
       "Measure               0\n",
       "Measure Info          0\n",
       "Geo Type Name         0\n",
       "Geo Join ID           9\n",
       "Geo Place Name        9\n",
       "Time Period           0\n",
       "Start_Date            0\n",
       "Data Value            0\n",
       "Message           18025\n",
       "dtype: int64"
      ]
     },
     "execution_count": 56,
     "metadata": {},
     "output_type": "execute_result"
    }
   ],
   "source": [
    "air_quality.isnull().sum()"
   ]
  },
  {
   "cell_type": "markdown",
   "metadata": {},
   "source": [
    "### Valores duplicados"
   ]
  },
  {
   "cell_type": "code",
   "execution_count": 57,
   "metadata": {},
   "outputs": [
    {
     "name": "stdout",
     "output_type": "stream",
     "text": [
      "0\n"
     ]
    }
   ],
   "source": [
    "print(air_quality.duplicated().sum())"
   ]
  },
  {
   "cell_type": "markdown",
   "metadata": {},
   "source": [
    "### Metadatos / diccionario de datos"
   ]
  },
  {
   "cell_type": "code",
   "execution_count": 58,
   "metadata": {},
   "outputs": [
    {
     "name": "stdout",
     "output_type": "stream",
     "text": [
      "<class 'pandas.core.frame.DataFrame'>\n",
      "RangeIndex: 18025 entries, 0 to 18024\n",
      "Data columns (total 12 columns):\n",
      " #   Column          Non-Null Count  Dtype  \n",
      "---  ------          --------------  -----  \n",
      " 0   Unique ID       18025 non-null  int64  \n",
      " 1   Indicator ID    18025 non-null  int64  \n",
      " 2   Name            18025 non-null  object \n",
      " 3   Measure         18025 non-null  object \n",
      " 4   Measure Info    18025 non-null  object \n",
      " 5   Geo Type Name   18025 non-null  object \n",
      " 6   Geo Join ID     18016 non-null  float64\n",
      " 7   Geo Place Name  18016 non-null  object \n",
      " 8   Time Period     18025 non-null  object \n",
      " 9   Start_Date      18025 non-null  object \n",
      " 10  Data Value      18025 non-null  float64\n",
      " 11  Message         0 non-null      float64\n",
      "dtypes: float64(3), int64(2), object(7)\n",
      "memory usage: 1.7+ MB\n"
     ]
    }
   ],
   "source": [
    "air_quality.info()"
   ]
  },
  {
   "cell_type": "code",
   "execution_count": 59,
   "metadata": {},
   "outputs": [
    {
     "data": {
      "text/html": [
       "<div>\n",
       "<style scoped>\n",
       "    .dataframe tbody tr th:only-of-type {\n",
       "        vertical-align: middle;\n",
       "    }\n",
       "\n",
       "    .dataframe tbody tr th {\n",
       "        vertical-align: top;\n",
       "    }\n",
       "\n",
       "    .dataframe thead th {\n",
       "        text-align: right;\n",
       "    }\n",
       "</style>\n",
       "<table border=\"1\" class=\"dataframe\">\n",
       "  <thead>\n",
       "    <tr style=\"text-align: right;\">\n",
       "      <th></th>\n",
       "      <th>Unique ID</th>\n",
       "      <th>Indicator ID</th>\n",
       "      <th>Geo Join ID</th>\n",
       "      <th>Data Value</th>\n",
       "      <th>Message</th>\n",
       "    </tr>\n",
       "  </thead>\n",
       "  <tbody>\n",
       "    <tr>\n",
       "      <th>count</th>\n",
       "      <td>18025.000000</td>\n",
       "      <td>18025.000000</td>\n",
       "      <td>1.801600e+04</td>\n",
       "      <td>18025.000000</td>\n",
       "      <td>0.0</td>\n",
       "    </tr>\n",
       "    <tr>\n",
       "      <th>mean</th>\n",
       "      <td>426387.692705</td>\n",
       "      <td>434.830180</td>\n",
       "      <td>5.906303e+05</td>\n",
       "      <td>21.428616</td>\n",
       "      <td>NaN</td>\n",
       "    </tr>\n",
       "    <tr>\n",
       "      <th>std</th>\n",
       "      <td>250489.450630</td>\n",
       "      <td>115.852371</td>\n",
       "      <td>7.769549e+06</td>\n",
       "      <td>23.999345</td>\n",
       "      <td>NaN</td>\n",
       "    </tr>\n",
       "    <tr>\n",
       "      <th>min</th>\n",
       "      <td>121644.000000</td>\n",
       "      <td>365.000000</td>\n",
       "      <td>1.000000e+00</td>\n",
       "      <td>0.000000</td>\n",
       "      <td>NaN</td>\n",
       "    </tr>\n",
       "    <tr>\n",
       "      <th>25%</th>\n",
       "      <td>175303.000000</td>\n",
       "      <td>365.000000</td>\n",
       "      <td>2.020000e+02</td>\n",
       "      <td>8.900000</td>\n",
       "      <td>NaN</td>\n",
       "    </tr>\n",
       "    <tr>\n",
       "      <th>50%</th>\n",
       "      <td>410803.000000</td>\n",
       "      <td>375.000000</td>\n",
       "      <td>3.030000e+02</td>\n",
       "      <td>15.200000</td>\n",
       "      <td>NaN</td>\n",
       "    </tr>\n",
       "    <tr>\n",
       "      <th>75%</th>\n",
       "      <td>649893.000000</td>\n",
       "      <td>386.000000</td>\n",
       "      <td>4.040000e+02</td>\n",
       "      <td>26.700000</td>\n",
       "      <td>NaN</td>\n",
       "    </tr>\n",
       "    <tr>\n",
       "      <th>max</th>\n",
       "      <td>828353.000000</td>\n",
       "      <td>661.000000</td>\n",
       "      <td>1.051061e+08</td>\n",
       "      <td>424.700000</td>\n",
       "      <td>NaN</td>\n",
       "    </tr>\n",
       "  </tbody>\n",
       "</table>\n",
       "</div>"
      ],
      "text/plain": [
       "           Unique ID  Indicator ID   Geo Join ID    Data Value  Message\n",
       "count   18025.000000  18025.000000  1.801600e+04  18025.000000      0.0\n",
       "mean   426387.692705    434.830180  5.906303e+05     21.428616      NaN\n",
       "std    250489.450630    115.852371  7.769549e+06     23.999345      NaN\n",
       "min    121644.000000    365.000000  1.000000e+00      0.000000      NaN\n",
       "25%    175303.000000    365.000000  2.020000e+02      8.900000      NaN\n",
       "50%    410803.000000    375.000000  3.030000e+02     15.200000      NaN\n",
       "75%    649893.000000    386.000000  4.040000e+02     26.700000      NaN\n",
       "max    828353.000000    661.000000  1.051061e+08    424.700000      NaN"
      ]
     },
     "execution_count": 59,
     "metadata": {},
     "output_type": "execute_result"
    }
   ],
   "source": [
    "air_quality.describe()"
   ]
  },
  {
   "cell_type": "code",
   "execution_count": 60,
   "metadata": {},
   "outputs": [
    {
     "data": {
      "text/plain": [
       "Unique ID           int64\n",
       "Indicator ID        int64\n",
       "Name               object\n",
       "Measure            object\n",
       "Measure Info       object\n",
       "Geo Type Name      object\n",
       "Geo Join ID       float64\n",
       "Geo Place Name     object\n",
       "Time Period        object\n",
       "Start_Date         object\n",
       "Data Value        float64\n",
       "Message           float64\n",
       "dtype: object"
      ]
     },
     "execution_count": 60,
     "metadata": {},
     "output_type": "execute_result"
    }
   ],
   "source": [
    "air_quality.dtypes"
   ]
  },
  {
   "cell_type": "code",
   "execution_count": 61,
   "metadata": {},
   "outputs": [
    {
     "data": {
      "text/plain": [
       "RangeIndex(start=0, stop=18025, step=1)"
      ]
     },
     "execution_count": 61,
     "metadata": {},
     "output_type": "execute_result"
    }
   ],
   "source": [
    "air_quality.index"
   ]
  },
  {
   "cell_type": "code",
   "execution_count": 62,
   "metadata": {},
   "outputs": [
    {
     "data": {
      "text/plain": [
       "{'Unique ID': dtype('int64'),\n",
       " 'Indicator ID': dtype('int64'),\n",
       " 'Name': dtype('O'),\n",
       " 'Measure': dtype('O'),\n",
       " 'Measure Info': dtype('O'),\n",
       " 'Geo Type Name': dtype('O'),\n",
       " 'Geo Join ID': dtype('float64'),\n",
       " 'Geo Place Name': dtype('O'),\n",
       " 'Time Period': dtype('O'),\n",
       " 'Start_Date': dtype('O'),\n",
       " 'Data Value': dtype('float64'),\n",
       " 'Message': dtype('float64')}"
      ]
     },
     "execution_count": 62,
     "metadata": {},
     "output_type": "execute_result"
    }
   ],
   "source": [
    "air_quality.dtypes.to_dict()"
   ]
  },
  {
   "cell_type": "markdown",
   "metadata": {},
   "source": [
    "### Outliers"
   ]
  },
  {
   "cell_type": "code",
   "execution_count": 63,
   "metadata": {},
   "outputs": [
    {
     "data": {
      "text/html": [
       "<div>\n",
       "<style scoped>\n",
       "    .dataframe tbody tr th:only-of-type {\n",
       "        vertical-align: middle;\n",
       "    }\n",
       "\n",
       "    .dataframe tbody tr th {\n",
       "        vertical-align: top;\n",
       "    }\n",
       "\n",
       "    .dataframe thead th {\n",
       "        text-align: right;\n",
       "    }\n",
       "</style>\n",
       "<table border=\"1\" class=\"dataframe\">\n",
       "  <thead>\n",
       "    <tr style=\"text-align: right;\">\n",
       "      <th></th>\n",
       "      <th>Unique ID</th>\n",
       "      <th>Indicator ID</th>\n",
       "      <th>Geo Join ID</th>\n",
       "      <th>Data Value</th>\n",
       "      <th>Message</th>\n",
       "    </tr>\n",
       "  </thead>\n",
       "  <tbody>\n",
       "    <tr>\n",
       "      <th>count</th>\n",
       "      <td>18025.000000</td>\n",
       "      <td>18025.000000</td>\n",
       "      <td>1.801600e+04</td>\n",
       "      <td>18025.000000</td>\n",
       "      <td>0.0</td>\n",
       "    </tr>\n",
       "    <tr>\n",
       "      <th>mean</th>\n",
       "      <td>426387.692705</td>\n",
       "      <td>434.830180</td>\n",
       "      <td>5.906303e+05</td>\n",
       "      <td>21.428616</td>\n",
       "      <td>NaN</td>\n",
       "    </tr>\n",
       "    <tr>\n",
       "      <th>std</th>\n",
       "      <td>250489.450630</td>\n",
       "      <td>115.852371</td>\n",
       "      <td>7.769549e+06</td>\n",
       "      <td>23.999345</td>\n",
       "      <td>NaN</td>\n",
       "    </tr>\n",
       "    <tr>\n",
       "      <th>min</th>\n",
       "      <td>121644.000000</td>\n",
       "      <td>365.000000</td>\n",
       "      <td>1.000000e+00</td>\n",
       "      <td>0.000000</td>\n",
       "      <td>NaN</td>\n",
       "    </tr>\n",
       "    <tr>\n",
       "      <th>25%</th>\n",
       "      <td>175303.000000</td>\n",
       "      <td>365.000000</td>\n",
       "      <td>2.020000e+02</td>\n",
       "      <td>8.900000</td>\n",
       "      <td>NaN</td>\n",
       "    </tr>\n",
       "    <tr>\n",
       "      <th>50%</th>\n",
       "      <td>410803.000000</td>\n",
       "      <td>375.000000</td>\n",
       "      <td>3.030000e+02</td>\n",
       "      <td>15.200000</td>\n",
       "      <td>NaN</td>\n",
       "    </tr>\n",
       "    <tr>\n",
       "      <th>75%</th>\n",
       "      <td>649893.000000</td>\n",
       "      <td>386.000000</td>\n",
       "      <td>4.040000e+02</td>\n",
       "      <td>26.700000</td>\n",
       "      <td>NaN</td>\n",
       "    </tr>\n",
       "    <tr>\n",
       "      <th>max</th>\n",
       "      <td>828353.000000</td>\n",
       "      <td>661.000000</td>\n",
       "      <td>1.051061e+08</td>\n",
       "      <td>424.700000</td>\n",
       "      <td>NaN</td>\n",
       "    </tr>\n",
       "  </tbody>\n",
       "</table>\n",
       "</div>"
      ],
      "text/plain": [
       "           Unique ID  Indicator ID   Geo Join ID    Data Value  Message\n",
       "count   18025.000000  18025.000000  1.801600e+04  18025.000000      0.0\n",
       "mean   426387.692705    434.830180  5.906303e+05     21.428616      NaN\n",
       "std    250489.450630    115.852371  7.769549e+06     23.999345      NaN\n",
       "min    121644.000000    365.000000  1.000000e+00      0.000000      NaN\n",
       "25%    175303.000000    365.000000  2.020000e+02      8.900000      NaN\n",
       "50%    410803.000000    375.000000  3.030000e+02     15.200000      NaN\n",
       "75%    649893.000000    386.000000  4.040000e+02     26.700000      NaN\n",
       "max    828353.000000    661.000000  1.051061e+08    424.700000      NaN"
      ]
     },
     "execution_count": 63,
     "metadata": {},
     "output_type": "execute_result"
    }
   ],
   "source": [
    "air_quality.describe()"
   ]
  },
  {
   "cell_type": "markdown",
   "metadata": {},
   "source": [
    "### Distribución"
   ]
  },
  {
   "cell_type": "code",
   "execution_count": 64,
   "metadata": {},
   "outputs": [
    {
     "data": {
      "text/plain": [
       "Name\n",
       "Fine particles (PM 2.5)                                   5922\n",
       "Nitrogen dioxide (NO2)                                    5922\n",
       "Ozone (O3)                                                2115\n",
       "Asthma emergency departments visits due to Ozone           485\n",
       "Asthma hospitalizations due to Ozone                       484\n",
       "Asthma emergency department visits due to PM2.5            480\n",
       "Annual vehicle miles traveled (cars)                       321\n",
       "Annual vehicle miles traveled                              321\n",
       "Annual vehicle miles traveled (trucks)                     321\n",
       "Deaths due to PM2.5                                        240\n",
       "Respiratory hospitalizations due to PM2.5 (age 20+)        240\n",
       "Cardiac and respiratory deaths due to Ozone                240\n",
       "Cardiovascular hospitalizations due to PM2.5 (age 40+)     240\n",
       "Outdoor Air Toxics - Formaldehyde                          203\n",
       "Outdoor Air Toxics - Benzene                               203\n",
       "Boiler Emissions- Total SO2 Emissions                       96\n",
       "Boiler Emissions- Total PM2.5 Emissions                     96\n",
       "Boiler Emissions- Total NOx Emissions                       96\n",
       "Name: count, dtype: int64"
      ]
     },
     "execution_count": 64,
     "metadata": {},
     "output_type": "execute_result"
    }
   ],
   "source": [
    "air_quality['Name'].value_counts()"
   ]
  },
  {
   "cell_type": "markdown",
   "metadata": {},
   "source": [
    "Name\tMeasure\tMeasure Info\tGeo Type Nam"
   ]
  },
  {
   "cell_type": "code",
   "execution_count": 65,
   "metadata": {},
   "outputs": [
    {
     "data": {
      "text/plain": [
       "Measure\n",
       "Mean                                    13959\n",
       "Million miles                             963\n",
       "Estimated annual rate (under age 18)      729\n",
       "Estimated annual rate (age 18+)           720\n",
       "Estimated annual rate                     720\n",
       "Annual average concentration              406\n",
       "Number per km2                            288\n",
       "Estimated annual rate (age 30+)           240\n",
       "Name: count, dtype: int64"
      ]
     },
     "execution_count": 65,
     "metadata": {},
     "output_type": "execute_result"
    }
   ],
   "source": [
    "air_quality['Measure'].value_counts()"
   ]
  },
  {
   "cell_type": "code",
   "execution_count": 66,
   "metadata": {},
   "outputs": [
    {
     "data": {
      "text/plain": [
       "Measure Info\n",
       "ppb                     8037\n",
       "mcg/m3                  5922\n",
       "per 100,000 adults      1440\n",
       "per square mile          963\n",
       "per 100,000 children     729\n",
       "Âµg/m3                   406\n",
       "number                   288\n",
       "per 100,000              240\n",
       "Name: count, dtype: int64"
      ]
     },
     "execution_count": 66,
     "metadata": {},
     "output_type": "execute_result"
    }
   ],
   "source": [
    "air_quality['Measure Info'].value_counts()"
   ]
  },
  {
   "cell_type": "code",
   "execution_count": 67,
   "metadata": {},
   "outputs": [
    {
     "data": {
      "text/plain": [
       "Geo Type Name\n",
       "UHF42       7140\n",
       "CD          6490\n",
       "UHF34       3366\n",
       "Borough      859\n",
       "Citywide     170\n",
       "Name: count, dtype: int64"
      ]
     },
     "execution_count": 67,
     "metadata": {},
     "output_type": "execute_result"
    }
   ],
   "source": [
    "air_quality['Geo Type Name'].value_counts()"
   ]
  },
  {
   "cell_type": "code",
   "execution_count": 68,
   "metadata": {},
   "outputs": [
    {
     "data": {
      "text/plain": [
       "'c:\\\\Users\\\\franc\\\\Desktop\\\\taxi_electrico_nyc\\\\notebooks'"
      ]
     },
     "execution_count": 68,
     "metadata": {},
     "output_type": "execute_result"
    }
   ],
   "source": [
    "ruta_actual = os.getcwd()\n",
    "\n",
    "ruta_actual"
   ]
  },
  {
   "cell_type": "code",
   "execution_count": 69,
   "metadata": {},
   "outputs": [
    {
     "data": {
      "text/plain": [
       "'c:\\\\Users\\\\franc\\\\Desktop\\\\taxi_electrico_nyc'"
      ]
     },
     "execution_count": 69,
     "metadata": {},
     "output_type": "execute_result"
    }
   ],
   "source": [
    "ruta_del_proyecto = os.path.dirname(\n",
    "    ruta_actual\n",
    "    )\n",
    "\n",
    "ruta_del_proyecto"
   ]
  },
  {
   "cell_type": "code",
   "execution_count": 70,
   "metadata": {},
   "outputs": [
    {
     "data": {
      "text/plain": [
       "'c:\\\\Users\\\\franc\\\\Desktop\\\\taxi_electrico_nyc\\\\reports\\\\Data-Dictionary-Air_Quality_2024.xlsx'"
      ]
     },
     "execution_count": 70,
     "metadata": {},
     "output_type": "execute_result"
    }
   ],
   "source": [
    "ruta_del_dataset = os.path.join(\n",
    "    ruta_del_proyecto, \n",
    "    'reports', \n",
    "    'Data-Dictionary-Air_Quality_2024.xlsx'\n",
    "    )\n",
    "\n",
    "ruta_del_dataset"
   ]
  },
  {
   "cell_type": "code",
   "execution_count": null,
   "metadata": {},
   "outputs": [
    {
     "ename": "NameError",
     "evalue": "name 'pd' is not defined",
     "output_type": "error",
     "traceback": [
      "\u001b[1;31m---------------------------------------------------------------------------\u001b[0m",
      "\u001b[1;31mNameError\u001b[0m                                 Traceback (most recent call last)",
      "Cell \u001b[1;32mIn[1], line 1\u001b[0m\n\u001b[1;32m----> 1\u001b[0m diccionario_de_datos \u001b[38;5;241m=\u001b[39m \u001b[43mpd\u001b[49m\u001b[38;5;241m.\u001b[39mread_excel(ruta_del_dataset, sheet_name\u001b[38;5;241m=\u001b[39m\u001b[38;5;124m'\u001b[39m\u001b[38;5;124mColumn Information\u001b[39m\u001b[38;5;124m'\u001b[39m, engine\u001b[38;5;241m=\u001b[39m\u001b[38;5;124m'\u001b[39m\u001b[38;5;124mopenpyxl\u001b[39m\u001b[38;5;124m'\u001b[39m)\n",
      "\u001b[1;31mNameError\u001b[0m: name 'pd' is not defined"
     ]
    }
   ],
   "source": [
    "diccionario_de_datos = pd.read_excel(ruta_del_dataset, sheet_name=None, engine='openpyxl')"
   ]
  },
  {
   "cell_type": "code",
   "execution_count": 77,
   "metadata": {},
   "outputs": [
    {
     "data": {
      "text/plain": [
       "7"
      ]
     },
     "execution_count": 77,
     "metadata": {},
     "output_type": "execute_result"
    }
   ],
   "source": [
    "len(diccionario_de_datos)"
   ]
  }
 ],
 "metadata": {
  "kernelspec": {
   "display_name": "venv",
   "language": "python",
   "name": "python3"
  },
  "language_info": {
   "codemirror_mode": {
    "name": "ipython",
    "version": 3
   },
   "file_extension": ".py",
   "mimetype": "text/x-python",
   "name": "python",
   "nbconvert_exporter": "python",
   "pygments_lexer": "ipython3",
   "version": "3.11.9"
  }
 },
 "nbformat": 4,
 "nbformat_minor": 2
}
